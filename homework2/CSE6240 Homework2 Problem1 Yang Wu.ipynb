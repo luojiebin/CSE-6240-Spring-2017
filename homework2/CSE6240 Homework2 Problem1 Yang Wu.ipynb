{
 "cells": [
  {
   "cell_type": "markdown",
   "metadata": {
    "deletable": true,
    "editable": true
   },
   "source": [
    "# Problem 1"
   ]
  },
  {
   "cell_type": "markdown",
   "metadata": {
    "deletable": true,
    "editable": true
   },
   "source": [
    "### Load the datasets"
   ]
  },
  {
   "cell_type": "code",
   "execution_count": 1,
   "metadata": {
    "collapsed": true,
    "deletable": true,
    "editable": true
   },
   "outputs": [],
   "source": [
    "import pandas as pd\n",
    "import numpy as np\n",
    "\n",
    "table = pd.read_table('./ml-100k/u.data', names=['user_id', 'item_id', 'rating', 'timestamp'], lineterminator='\\n')\n",
    "train = pd.read_table('./ml-100k/ua.base', names=['user_id', 'item_id', 'rating', 'timestamp'], lineterminator='\\n')\n",
    "test = pd.read_table('./ml-100k/ua.test', names=['user_id', 'item_id', 'rating', 'timestamp'], lineterminator='\\n')"
   ]
  },
  {
   "cell_type": "markdown",
   "metadata": {
    "collapsed": true,
    "deletable": true,
    "editable": true
   },
   "source": [
    "### Plot the histogram"
   ]
  },
  {
   "cell_type": "code",
   "execution_count": 2,
   "metadata": {
    "collapsed": false,
    "deletable": true,
    "editable": true
   },
   "outputs": [],
   "source": [
    "import matplotlib.pyplot as plt\n",
    "import matplotlib\n",
    "# matplotlib.style.use('ggplot')\n",
    "%matplotlib inline"
   ]
  },
  {
   "cell_type": "markdown",
   "metadata": {
    "collapsed": true,
    "deletable": true,
    "editable": true
   },
   "source": [
    "## Recommender - Baseline Predictor"
   ]
  },
  {
   "cell_type": "code",
   "execution_count": 3,
   "metadata": {
    "collapsed": true,
    "deletable": true,
    "editable": true
   },
   "outputs": [],
   "source": [
    "# Get the number of users and items\n",
    "n_item = table['item_id'].max()\n",
    "n_user = table['user_id'].max()"
   ]
  },
  {
   "cell_type": "code",
   "execution_count": 4,
   "metadata": {
    "collapsed": false,
    "deletable": true,
    "editable": true
   },
   "outputs": [],
   "source": [
    "# Create the user-item matrix\n",
    "train_matrix = np.zeros((n_user, n_item))\n",
    "test_matrix = np.zeros((n_user, n_item))\n",
    "\n",
    "# Fill the matrix with the ratings\n",
    "def fill_matrix(matrix, data):\n",
    "    row, col = matrix.shape\n",
    "    for u in range(1, row + 1):\n",
    "        items = data[data['user_id'] == u]\n",
    "        for index in items.index:\n",
    "            df = items.loc[index]\n",
    "            i = df['item_id']\n",
    "            matrix[u - 1, i - 1] = df['rating']  \n",
    "            \n",
    "fill_matrix(train_matrix, train)\n",
    "fill_matrix(test_matrix, test)"
   ]
  },
  {
   "cell_type": "code",
   "execution_count": 5,
   "metadata": {
    "collapsed": false,
    "deletable": true,
    "editable": true
   },
   "outputs": [],
   "source": [
    "# Compute overall average rating\n",
    "mu = train['rating'].mean()\n",
    "\n",
    "# Set the values of regularizers\n",
    "lambda_2 = 25\n",
    "lambda_3 = 10\n",
    "\n",
    "# Compute deviation of user and item\n",
    "def compute(mu, data, lmd, arr, row, r):\n",
    "    temp = data.copy()\n",
    "    bias = np.tile(arr, [row, 1])\n",
    "    flag = data > 0\n",
    "    temp[flag] = data[flag] - mu - bias[flag]\n",
    "    ans = temp.sum(axis = r) / (flag.sum(axis = r) + lmd)\n",
    "    return ans\n",
    "\n",
    "bi = compute(mu, train_matrix, lambda_2, np.zeros(n_item), n_user, 0)\n",
    "bu = compute(mu, train_matrix, lambda_3, bi, n_user, 1)"
   ]
  },
  {
   "cell_type": "markdown",
   "metadata": {
    "deletable": true,
    "editable": true
   },
   "source": [
    "### Part (a) Compute the RMSE for baseline predictor"
   ]
  },
  {
   "cell_type": "code",
   "execution_count": 6,
   "metadata": {
    "collapsed": false,
    "deletable": true,
    "editable": true
   },
   "outputs": [
    {
     "name": "stdout",
     "output_type": "stream",
     "text": [
      "0.9664817838879254\n"
     ]
    }
   ],
   "source": [
    "# Compute the mean square error\n",
    "import math\n",
    "\n",
    "def computeRMSE(data, mu, bi, bu):\n",
    "    user = np.array(data['user_id'])\n",
    "    item = np.array(data['item_id'])\n",
    "    rating = np.array(data['rating'])\n",
    "    \n",
    "    num = len(rating)\n",
    "    RMSE_sum = 0\n",
    "    \n",
    "    for r in range(num):\n",
    "        i = item[r]\n",
    "        u = user[r]\n",
    "        error = math.pow(mu + bi[i-1] + bu[u-1] - rating[r], 2)\n",
    "        RMSE_sum += error\n",
    "        \n",
    "    RMSE_value = math.pow(RMSE_sum / num, 0.5)\n",
    "    return RMSE_value\n",
    "\n",
    "RMSE_test = computeRMSE(test, mu, bi, bu)\n",
    "\n",
    "print(RMSE_test)"
   ]
  },
  {
   "cell_type": "markdown",
   "metadata": {
    "deletable": true,
    "editable": true
   },
   "source": [
    "### Part (c) Plot the RMSE per user"
   ]
  },
  {
   "cell_type": "code",
   "execution_count": 7,
   "metadata": {
    "collapsed": false,
    "deletable": true,
    "editable": true
   },
   "outputs": [
    {
     "name": "stdout",
     "output_type": "stream",
     "text": [
      "4.92857142857\n",
      "1.48941176471\n"
     ]
    }
   ],
   "source": [
    "# Compute the average rating of each user\n",
    "avg_user_rating = []\n",
    "for i in range(1, train[\"user_id\"].max() + 1):\n",
    "    avg_rating = train[train[\"user_id\"] == i]['rating'].mean()\n",
    "    avg_user_rating.append(avg_rating)\n",
    "\n",
    "print(max(avg_user_rating))\n",
    "print(min(avg_user_rating))"
   ]
  },
  {
   "cell_type": "code",
   "execution_count": 8,
   "metadata": {
    "collapsed": true,
    "deletable": true,
    "editable": true
   },
   "outputs": [],
   "source": [
    "# Split the user based on their average rating\n",
    "max_user_avg = max(avg_user_rating)\n",
    "min_user_avg = min(avg_user_rating)\n",
    "step = (max_user_avg - min_user_avg)/5\n",
    "\n",
    "user_list1 = []\n",
    "user_list2 = []\n",
    "user_list3 = []\n",
    "user_list4 = []\n",
    "user_list5 = []\n",
    "\n",
    "for i in range(len(avg_user_rating)):\n",
    "    if avg_user_rating[i] <= (min_user_avg + step):\n",
    "        user_list1.append(i+1)\n",
    "    elif (min_user_avg + step) < avg_user_rating[i] <= (min_user_avg + step * 2):\n",
    "        user_list2.append(i+1)\n",
    "    elif (min_user_avg + step * 2) < avg_user_rating[i] <= (min_user_avg + step * 3):\n",
    "        user_list3.append(i+1)\n",
    "    elif (min_user_avg + step * 3) < avg_user_rating[i] <= (min_user_avg + step * 4):\n",
    "        user_list4.append(i+1)\n",
    "    else:\n",
    "        user_list5.append(i+1)    "
   ]
  },
  {
   "cell_type": "code",
   "execution_count": 21,
   "metadata": {
    "collapsed": false,
    "deletable": true,
    "editable": true
   },
   "outputs": [
    {
     "name": "stdout",
     "output_type": "stream",
     "text": [
      "Result for RMSE_rating1:  1.108865965786421\n",
      "Result for RMSE_rating2:  1.1508343053085417\n",
      "Result for RMSE_rating3:  1.0007633817384751\n",
      "Result for RMSE_rating4:  0.9264089800064111\n",
      "Result for RMSE_rating5:  0.8878669173390428\n"
     ]
    }
   ],
   "source": [
    "# Compute RMSE based on these subsets of users\n",
    "# For type 1\n",
    "rating1 = test[test[\"user_id\"].isin(user_list1)]\n",
    "RMSE_rating1 = computeRMSE(rating1, mu, bi, bu)\n",
    "print(\"Result for RMSE_rating1: \", RMSE_rating1)\n",
    "\n",
    "# For type 2\n",
    "rating2 = test[test[\"user_id\"].isin(user_list2)]\n",
    "RMSE_rating2 = computeRMSE(rating2, mu, bi, bu)\n",
    "print(\"Result for RMSE_rating2: \", RMSE_rating2)\n",
    "\n",
    "# For type 3\n",
    "rating3 = test[test[\"user_id\"].isin(user_list3)]\n",
    "RMSE_rating3 = computeRMSE(rating3, mu, bi, bu)\n",
    "print(\"Result for RMSE_rating3: \", RMSE_rating3)\n",
    "\n",
    "# For type 4\n",
    "rating4 = test[test[\"user_id\"].isin(user_list4)]\n",
    "RMSE_rating4 = computeRMSE(rating4, mu, bi, bu)\n",
    "print(\"Result for RMSE_rating4: \", RMSE_rating4)\n",
    "\n",
    "# For type 5\n",
    "rating5 = test[test[\"user_id\"].isin(user_list5)]\n",
    "RMSE_rating5 = computeRMSE(rating5, mu, bi, bu)\n",
    "print(\"Result for RMSE_rating5: \", RMSE_rating5)"
   ]
  },
  {
   "cell_type": "code",
   "execution_count": 22,
   "metadata": {
    "collapsed": false,
    "deletable": true,
    "editable": true
   },
   "outputs": [
    {
     "data": {
      "image/png": "[encoded data removed]",
      "text/plain": [
       "<matplotlib.figure.Figure at 0x117654b70>"
      ]
     },
     "metadata": {},
     "output_type": "display_data"
    }
   ],
   "source": [
    "# Plot the histogram for different types of users\n",
    "RMSE_test_ratings = [RMSE_rating1, RMSE_rating2, RMSE_rating3, RMSE_rating4, RMSE_rating5]\n",
    "index = np.arange(5)\n",
    "# plt.figure(figsize=(10, 5))\n",
    "rects = plt.bar(index, RMSE_test_ratings, alpha=0.5)  \n",
    "\n",
    "plt.xlabel('User Types') \n",
    "plt.ylabel('RMSE')\n",
    "plt.title('RMSE for all the test ratings') \n",
    "plt.xticks(index, (str(round((min_user_avg),2)), str(round((min_user_avg + step),2)), \n",
    "                   str(round((min_user_avg + 2*step),2)), str(round((min_user_avg + 3*step),2)), \n",
    "                   str(round((min_user_avg + 4*step),2)))) \n",
    "plt.ylim(0,1.5)\n",
    "plt.show()"
   ]
  },
  {
   "cell_type": "markdown",
   "metadata": {
    "deletable": true,
    "editable": true
   },
   "source": [
    "## Recommender -  K-nearest neighbor"
   ]
  },
  {
   "cell_type": "markdown",
   "metadata": {
    "deletable": true,
    "editable": true
   },
   "source": [
    "### Compute the similarity matrix"
   ]
  },
  {
   "cell_type": "code",
   "execution_count": 28,
   "metadata": {
    "collapsed": true,
    "deletable": true,
    "editable": true
   },
   "outputs": [],
   "source": [
    "# Compute the similarity\n",
    "def similarity(item_1, item_2, data, matrix, rating):\n",
    "    user_1 = np.array(data[data[\"item_id\"] == item_1][\"user_id\"]).tolist()\n",
    "    user_2 = np.array(data[data[\"item_id\"] == item_2][\"user_id\"]).tolist()\n",
    "    common = [elm - 1 for elm in user_1 if elm in user_2]\n",
    "    \n",
    "    if len(common) == 0:\n",
    "        return 0.00001\n",
    "    else:\n",
    "        avg_rating = np.array(rating)[common]\n",
    "        r_item_1 = matrix[common, item_1 - 1]\n",
    "        r_item_2 = matrix[common, item_2 - 1]\n",
    "        numerator = (r_item_1 - avg_rating).dot(r_item_2 - avg_rating)\n",
    "        denominator_left = (r_item_1 - avg_rating).dot(r_item_1 - avg_rating)\n",
    "        denominator_right = (r_item_2 - avg_rating).dot(r_item_2 - avg_rating)\n",
    "        result = numerator / (math.pow(denominator_left * denominator_right, 0.5) + 0.00001)\n",
    "        return result"
   ]
  },
  {
   "cell_type": "code",
   "execution_count": 29,
   "metadata": {
    "collapsed": false,
    "deletable": true,
    "editable": true
   },
   "outputs": [
    {
     "name": "stdout",
     "output_type": "stream",
     "text": [
      "Computing the similarity matrix...\n",
      "0\n",
      "100\n",
      "200\n",
      "300\n",
      "400\n",
      "500\n",
      "600\n",
      "700\n",
      "800\n",
      "900\n",
      "1000\n",
      "1100\n",
      "1200\n",
      "1300\n",
      "1400\n",
      "1500\n",
      "1600\n",
      "Done!\n"
     ]
    }
   ],
   "source": [
    "matrix_similarity = np.zeros(shape = (1682, 1682))\n",
    "\n",
    "print(\"Computing the similarity matrix...\")\n",
    "for i in range(1682):\n",
    "    \n",
    "    #Record the process\n",
    "    if i % 100 == 0:\n",
    "        print(i)\n",
    "        \n",
    "    for j in range(i,1682):\n",
    "        if i == j:\n",
    "            matrix_similarity[i][j] = 0\n",
    "        else:\n",
    "            matrix_similarity[i][j] = similarity(i + 1, j + 1, train, train_matrix, avg_user_rating)\n",
    "print(\"Done!\")\n",
    "matrix_sim = matrix_similarity + matrix_similarity.T"
   ]
  },
  {
   "cell_type": "code",
   "execution_count": 30,
   "metadata": {
    "collapsed": true,
    "deletable": true,
    "editable": true
   },
   "outputs": [],
   "source": [
    "np.savetxt('matrix_sim.txt', matrix_sim, delimiter='\\t')"
   ]
  },
  {
   "cell_type": "markdown",
   "metadata": {
    "deletable": true,
    "editable": true
   },
   "source": [
    "### Compute the top k similar items in test"
   ]
  },
  {
   "cell_type": "code",
   "execution_count": 37,
   "metadata": {
    "collapsed": false,
    "deletable": true,
    "editable": true
   },
   "outputs": [],
   "source": [
    "# Compute the top k similar items in test\n",
    "def topK(train, test, matrix):\n",
    "    user = np.array(test['user_id'])\n",
    "    item = np.array(test['item_id'])\n",
    "    rating = np.array(test['rating'])\n",
    "    dic_test_top10 = {}\n",
    "    \n",
    "    for i in range(len(user)):\n",
    "        temp_item = item[i]\n",
    "        temp_user = user[i]\n",
    "        temp_similarity = []\n",
    "        temp_top = []\n",
    "        \n",
    "        temp_user_item = train[train[\"user_id\"] == temp_user][\"item_id\"].tolist()\n",
    "        \n",
    "        for elm in temp_user_item:\n",
    "            temp_similarity.append(abs(matrix[elm - 1][temp_item - 1]))\n",
    "            \n",
    "        temp_item_similarity = pd.Series(temp_similarity)\n",
    "        top_10 = temp_item_similarity.sort_values(ascending = False).head(10)\n",
    "        temp_list = top_10.index.tolist()\n",
    "        \n",
    "        for j in range(10):\n",
    "            temp_top.append(temp_user_item[temp_list[j]])\n",
    "            \n",
    "        dic_test_top10[str(temp_user) + \"+\" + str(temp_item)] = temp_top\n",
    "    return dic_test_top10\n",
    "\n",
    "dic_test_top10 = topK(train, test, matrix_sim)"
   ]
  },
  {
   "cell_type": "markdown",
   "metadata": {
    "deletable": true,
    "editable": true
   },
   "source": [
    "### Part (a). Compute RMSE for kNN"
   ]
  },
  {
   "cell_type": "code",
   "execution_count": 43,
   "metadata": {
    "collapsed": true,
    "deletable": true,
    "editable": true
   },
   "outputs": [],
   "source": [
    "def computeKNN(train, test, k, dictionary, matrix_sim):\n",
    "    user = np.array(test['user_id'])\n",
    "    item = np.array(test['item_id'])\n",
    "    rating = np.array(test['rating'])\n",
    "    \n",
    "    RMSE_sum = 0\n",
    "    num_rating = rating.size\n",
    "    \n",
    "    for i in range(num_rating):\n",
    "        \n",
    "        temp_item = item[i]\n",
    "        temp_user = user[i]\n",
    "        temp_top10 = dictionary[str(temp_user) + \"+\" + str(temp_item)] \n",
    "    \n",
    "        sum_similarity = 0\n",
    "        sum_sim_rating = 0\n",
    "        similarity_value = []\n",
    "        similarity_item_rating = []\n",
    "                \n",
    "        # Calculate the predict rating \n",
    "        for j in range(k):\n",
    "            \n",
    "            similarity_item_rating.append(train[temp_user - 1][temp_top10[j] - 1])\n",
    "            similarity_value.append(abs(matrix_sim[temp_item - 1][temp_top10[j] - 1]))\n",
    "            sum_sim_rating += similarity_value[j] * similarity_item_rating[j]\n",
    "            sum_similarity += similarity_value[j]\n",
    "            \n",
    "        rating_pre = sum_sim_rating / sum_similarity  \n",
    "         \n",
    "        temp_error = math.pow(rating_pre - rating[i], 2)\n",
    "        RMSE_sum += temp_error\n",
    "        \n",
    "    RMSE_value = math.pow(RMSE_sum / num_rating, 0.5) \n",
    "    \n",
    "    return RMSE_value"
   ]
  },
  {
   "cell_type": "code",
   "execution_count": 44,
   "metadata": {
    "collapsed": false,
    "deletable": true,
    "editable": true
   },
   "outputs": [
    {
     "name": "stdout",
     "output_type": "stream",
     "text": [
      "Result for RMSE_K_1:  1.5537386922027565\n",
      "Result for RMSE_K_2:  1.3497350362916207\n",
      "Result for RMSE_K_3:  1.2685476783648997\n",
      "Result for RMSE_K_5:  1.2009733791290602\n",
      "Result for RMSE_K_10:  1.1334453533988336\n"
     ]
    }
   ],
   "source": [
    "RMSE_K_1 = computeKNN(train_matrix, test, 1, dic_test_top10, matrix_sim)\n",
    "print(\"Result for RMSE_K_1: \", RMSE_K_1)\n",
    "\n",
    "RMSE_K_2 = computeKNN(train_matrix, test, 2, dic_test_top10, matrix_sim)\n",
    "print(\"Result for RMSE_K_2: \", RMSE_K_2)\n",
    "\n",
    "RMSE_K_3 = computeKNN(train_matrix, test, 3, dic_test_top10, matrix_sim)\n",
    "print(\"Result for RMSE_K_3: \", RMSE_K_3)\n",
    "\n",
    "RMSE_K_5 = computeKNN(train_matrix, test, 5, dic_test_top10, matrix_sim)\n",
    "print(\"Result for RMSE_K_5: \", RMSE_K_5)\n",
    "\n",
    "RMSE_K_10 = computeKNN(train_matrix, test, 10, dic_test_top10, matrix_sim)\n",
    "print(\"Result for RMSE_K_10: \", RMSE_K_10)"
   ]
  },
  {
   "cell_type": "markdown",
   "metadata": {
    "deletable": true,
    "editable": true
   },
   "source": [
    "Obviously, k = 10 is the optimal one"
   ]
  },
  {
   "cell_type": "markdown",
   "metadata": {
    "deletable": true,
    "editable": true
   },
   "source": [
    "### Part (c). Plot the RMSE per user"
   ]
  },
  {
   "cell_type": "markdown",
   "metadata": {
    "deletable": true,
    "editable": true
   },
   "source": [
    "### k = 1"
   ]
  },
  {
   "cell_type": "code",
   "execution_count": 46,
   "metadata": {
    "collapsed": false,
    "deletable": true,
    "editable": true
   },
   "outputs": [
    {
     "name": "stdout",
     "output_type": "stream",
     "text": [
      "Result for RMSE_rating1:  1.3844373104863459\n",
      "Result for RMSE_rating1:  1.8779421361337698\n",
      "Result for RMSE_rating1:  1.6396816332174446\n",
      "Result for RMSE_rating1:  1.48701274256535\n",
      "Result for RMSE_rating1:  1.238719592768354\n"
     ]
    }
   ],
   "source": [
    "# For type 1\n",
    "rating1 = test[test[\"user_id\"].isin(user_list1)]\n",
    "RMSE_rating1_k_1 = computeKNN(train_matrix, rating1, 1, dic_test_top10, matrix_sim)\n",
    "print(\"Result for RMSE_rating1: \", RMSE_rating1_k_1)\n",
    "\n",
    "# For type 2\n",
    "rating2 = test[test[\"user_id\"].isin(user_list2)]\n",
    "RMSE_rating2_k_1 = computeKNN(train_matrix, rating2, 1, dic_test_top10, matrix_sim)\n",
    "print(\"Result for RMSE_rating1: \", RMSE_rating2_k_1)\n",
    "\n",
    "# For type 3\n",
    "rating3 = test[test[\"user_id\"].isin(user_list3)]\n",
    "RMSE_rating3_k_1 = computeKNN(train_matrix, rating3, 1, dic_test_top10, matrix_sim)\n",
    "print(\"Result for RMSE_rating1: \", RMSE_rating3_k_1)\n",
    "\n",
    "# For type 4\n",
    "rating4 = test[test[\"user_id\"].isin(user_list4)]\n",
    "RMSE_rating4_k_1 = computeKNN(train_matrix, rating4, 1, dic_test_top10, matrix_sim)\n",
    "print(\"Result for RMSE_rating1: \", RMSE_rating4_k_1)\n",
    "\n",
    "# For type 5\n",
    "rating5 = test[test[\"user_id\"].isin(user_list5)]\n",
    "RMSE_rating5_k_1 = computeKNN(train_matrix, rating5, 1, dic_test_top10, matrix_sim)\n",
    "print(\"Result for RMSE_rating1: \", RMSE_rating5_k_1)"
   ]
  },
  {
   "cell_type": "code",
   "execution_count": 48,
   "metadata": {
    "collapsed": false,
    "deletable": true,
    "editable": true
   },
   "outputs": [
    {
     "data": {
      "image/png": "[encoded data removed]",
      "text/plain": [
       "<matplotlib.figure.Figure at 0x11a83e550>"
      ]
     },
     "metadata": {},
     "output_type": "display_data"
    }
   ],
   "source": [
    "RMSE_test_ratings = [RMSE_rating1_k_1, RMSE_rating2_k_1, RMSE_rating3_k_1, RMSE_rating4_k_1, RMSE_rating5_k_1]\n",
    "index = np.arange(5)\n",
    "rects = plt.bar(index, RMSE_test_ratings, alpha=0.5)  \n",
    "\n",
    "plt.xlabel('Ratings') \n",
    "plt.ylabel('RMSE')\n",
    "plt.title('RMSE for different types of users using KNN (K=1)') \n",
    "plt.xticks(index, ('1', '2', '3', '4', '5')) \n",
    "plt.ylim(0,2) \n",
    "\n",
    "plt.show()"
   ]
  },
  {
   "cell_type": "markdown",
   "metadata": {
    "deletable": true,
    "editable": true
   },
   "source": [
    "### k = 2"
   ]
  },
  {
   "cell_type": "code",
   "execution_count": 49,
   "metadata": {
    "collapsed": false,
    "deletable": true,
    "editable": true
   },
   "outputs": [
    {
     "name": "stdout",
     "output_type": "stream",
     "text": [
      "Result for RMSE_rating1:  1.3365778745752217\n",
      "Result for RMSE_rating1:  1.7144800855696067\n",
      "Result for RMSE_rating1:  1.4195374790398159\n",
      "Result for RMSE_rating1:  1.2847612454731905\n",
      "Result for RMSE_rating1:  1.0676225512616933\n"
     ]
    }
   ],
   "source": [
    "# For type 1\n",
    "rating1 = test[test[\"user_id\"].isin(user_list1)]\n",
    "RMSE_rating1_k_2 = computeKNN(train_matrix, rating1, 2, dic_test_top10, matrix_sim)\n",
    "print(\"Result for RMSE_rating1: \", RMSE_rating1_k_2)\n",
    "\n",
    "# For type 2\n",
    "rating2 = test[test[\"user_id\"].isin(user_list2)]\n",
    "RMSE_rating2_k_2 = computeKNN(train_matrix, rating2, 2, dic_test_top10, matrix_sim)\n",
    "print(\"Result for RMSE_rating1: \", RMSE_rating2_k_2)\n",
    "\n",
    "# For type 3\n",
    "rating3 = test[test[\"user_id\"].isin(user_list3)]\n",
    "RMSE_rating3_k_2 = computeKNN(train_matrix, rating3, 2, dic_test_top10, matrix_sim)\n",
    "print(\"Result for RMSE_rating1: \", RMSE_rating3_k_2)\n",
    "\n",
    "# For type 4\n",
    "rating4 = test[test[\"user_id\"].isin(user_list4)]\n",
    "RMSE_rating4_k_2 = computeKNN(train_matrix, rating4, 2, dic_test_top10, matrix_sim)\n",
    "print(\"Result for RMSE_rating1: \", RMSE_rating4_k_2)\n",
    "\n",
    "# For type 5\n",
    "rating5 = test[test[\"user_id\"].isin(user_list5)]\n",
    "RMSE_rating5_k_2 = computeKNN(train_matrix, rating5, 2, dic_test_top10, matrix_sim)\n",
    "print(\"Result for RMSE_rating1: \", RMSE_rating5_k_2)"
   ]
  },
  {
   "cell_type": "code",
   "execution_count": 50,
   "metadata": {
    "collapsed": false,
    "deletable": true,
    "editable": true
   },
   "outputs": [
    {
     "data": {
      "image/png": "[encoded data removed]",
      "text/plain": [
       "<matplotlib.figure.Figure at 0x11790aba8>"
      ]
     },
     "metadata": {},
     "output_type": "display_data"
    }
   ],
   "source": [
    "RMSE_test_ratings = [RMSE_rating1_k_2, RMSE_rating2_k_2, RMSE_rating3_k_2, RMSE_rating4_k_2, RMSE_rating5_k_2]\n",
    "index = np.arange(5)\n",
    "rects = plt.bar(index, RMSE_test_ratings, alpha=0.5)  \n",
    "\n",
    "plt.xlabel('Ratings') \n",
    "plt.ylabel('RMSE')\n",
    "plt.title('RMSE for different types of users using KNN (K=2)') \n",
    "plt.xticks(index, ('1', '2', '3', '4', '5')) \n",
    "plt.ylim(0,2) \n",
    "\n",
    "plt.show()"
   ]
  },
  {
   "cell_type": "markdown",
   "metadata": {
    "deletable": true,
    "editable": true
   },
   "source": [
    "### k = 3"
   ]
  },
  {
   "cell_type": "code",
   "execution_count": 51,
   "metadata": {
    "collapsed": false,
    "deletable": true,
    "editable": true
   },
   "outputs": [
    {
     "name": "stdout",
     "output_type": "stream",
     "text": [
      "Result for RMSE_rating1:  1.3703409150867496\n",
      "Result for RMSE_rating1:  1.6022823947909097\n",
      "Result for RMSE_rating1:  1.3364073660879727\n",
      "Result for RMSE_rating1:  1.2052251875149618\n",
      "Result for RMSE_rating1:  1.0020008793283592\n"
     ]
    }
   ],
   "source": [
    "# For type 1\n",
    "rating1 = test[test[\"user_id\"].isin(user_list1)]\n",
    "RMSE_rating1_k_3 = computeKNN(train_matrix, rating1, 3, dic_test_top10, matrix_sim)\n",
    "print(\"Result for RMSE_rating1: \", RMSE_rating1_k_3)\n",
    "\n",
    "# For type 2\n",
    "rating2 = test[test[\"user_id\"].isin(user_list2)]\n",
    "RMSE_rating2_k_3 = computeKNN(train_matrix, rating2, 3, dic_test_top10, matrix_sim)\n",
    "print(\"Result for RMSE_rating1: \", RMSE_rating2_k_3)\n",
    "\n",
    "# For type 3\n",
    "rating3 = test[test[\"user_id\"].isin(user_list3)]\n",
    "RMSE_rating3_k_3 = computeKNN(train_matrix, rating3, 3, dic_test_top10, matrix_sim)\n",
    "print(\"Result for RMSE_rating1: \", RMSE_rating3_k_3)\n",
    "\n",
    "# For type 4\n",
    "rating4 = test[test[\"user_id\"].isin(user_list4)]\n",
    "RMSE_rating4_k_3 = computeKNN(train_matrix, rating4, 3, dic_test_top10, matrix_sim)\n",
    "print(\"Result for RMSE_rating1: \", RMSE_rating4_k_3)\n",
    "\n",
    "# For type 5\n",
    "rating5 = test[test[\"user_id\"].isin(user_list5)]\n",
    "RMSE_rating5_k_3 = computeKNN(train_matrix, rating5, 3, dic_test_top10, matrix_sim)\n",
    "print(\"Result for RMSE_rating1: \", RMSE_rating5_k_3)"
   ]
  },
  {
   "cell_type": "code",
   "execution_count": 53,
   "metadata": {
    "collapsed": false,
    "deletable": true,
    "editable": true
   },
   "outputs": [
    {
     "data": {
      "image/png": "[encoded data removed]",
      "text/plain": [
       "<matplotlib.figure.Figure at 0x10f18b828>"
      ]
     },
     "metadata": {},
     "output_type": "display_data"
    }
   ],
   "source": [
    "RMSE_test_ratings = [RMSE_rating1_k_3, RMSE_rating2_k_3, RMSE_rating3_k_3, RMSE_rating4_k_3, RMSE_rating5_k_3]\n",
    "index = np.arange(5)\n",
    "rects = plt.bar(index, RMSE_test_ratings, alpha=0.5)  \n",
    "\n",
    "plt.xlabel('Ratings') \n",
    "plt.ylabel('RMSE')\n",
    "plt.title('RMSE for different types of users using KNN (K=3)') \n",
    "plt.xticks(index, ('1', '2', '3', '4', '5')) \n",
    "plt.ylim(0,2) \n",
    "\n",
    "plt.show()"
   ]
  },
  {
   "cell_type": "markdown",
   "metadata": {
    "deletable": true,
    "editable": true
   },
   "source": [
    "### k = 5"
   ]
  },
  {
   "cell_type": "code",
   "execution_count": 56,
   "metadata": {
    "collapsed": false,
    "deletable": true,
    "editable": true
   },
   "outputs": [
    {
     "name": "stdout",
     "output_type": "stream",
     "text": [
      "Result for RMSE_rating1:  1.3758257514062728\n",
      "Result for RMSE_rating1:  1.497304662771373\n",
      "Result for RMSE_rating1:  1.2634402467853119\n",
      "Result for RMSE_rating1:  1.1433596728504374\n",
      "Result for RMSE_rating1:  0.9536030541434263\n"
     ]
    }
   ],
   "source": [
    "# For type 1\n",
    "rating1 = test[test[\"user_id\"].isin(user_list1)]\n",
    "RMSE_rating1_k_5 = computeKNN(train_matrix, rating1, 5, dic_test_top10, matrix_sim)\n",
    "print(\"Result for RMSE_rating1: \", RMSE_rating1_k_5)\n",
    "\n",
    "# For type 2\n",
    "rating2 = test[test[\"user_id\"].isin(user_list2)]\n",
    "RMSE_rating2_k_5 = computeKNN(train_matrix, rating2, 5, dic_test_top10, matrix_sim)\n",
    "print(\"Result for RMSE_rating1: \", RMSE_rating2_k_5)\n",
    "\n",
    "# For type 3\n",
    "rating3 = test[test[\"user_id\"].isin(user_list3)]\n",
    "RMSE_rating3_k_5 = computeKNN(train_matrix, rating3, 5, dic_test_top10, matrix_sim)\n",
    "print(\"Result for RMSE_rating1: \", RMSE_rating3_k_5)\n",
    "\n",
    "# For type 4\n",
    "rating4 = test[test[\"user_id\"].isin(user_list4)]\n",
    "RMSE_rating4_k_5 = computeKNN(train_matrix, rating4, 5, dic_test_top10, matrix_sim)\n",
    "print(\"Result for RMSE_rating1: \", RMSE_rating4_k_5)\n",
    "\n",
    "# For type 5\n",
    "rating5 = test[test[\"user_id\"].isin(user_list5)]\n",
    "RMSE_rating5_k_5 = computeKNN(train_matrix, rating5, 5, dic_test_top10, matrix_sim)\n",
    "print(\"Result for RMSE_rating1: \", RMSE_rating5_k_5)"
   ]
  },
  {
   "cell_type": "code",
   "execution_count": 57,
   "metadata": {
    "collapsed": false,
    "deletable": true,
    "editable": true
   },
   "outputs": [
    {
     "data": {
      "image/png": "[encoded data removed]",
      "text/plain": [
       "<matplotlib.figure.Figure at 0x1177c8240>"
      ]
     },
     "metadata": {},
     "output_type": "display_data"
    }
   ],
   "source": [
    "RMSE_test_ratings = [RMSE_rating1_k_5, RMSE_rating2_k_5, RMSE_rating3_k_5, RMSE_rating4_k_5, RMSE_rating5_k_5]\n",
    "index = np.arange(5)\n",
    "rects = plt.bar(index, RMSE_test_ratings, alpha=0.5)  \n",
    "\n",
    "plt.xlabel('Ratings') \n",
    "plt.ylabel('RMSE')\n",
    "plt.title('RMSE for different types of users using KNN (K=5)') \n",
    "plt.xticks(index, ('1', '2', '3', '4', '5')) \n",
    "plt.ylim(0,2) \n",
    "\n",
    "plt.show()"
   ]
  },
  {
   "cell_type": "markdown",
   "metadata": {
    "deletable": true,
    "editable": true
   },
   "source": [
    "### k = 10"
   ]
  },
  {
   "cell_type": "code",
   "execution_count": 58,
   "metadata": {
    "collapsed": false,
    "deletable": true,
    "editable": true
   },
   "outputs": [
    {
     "name": "stdout",
     "output_type": "stream",
     "text": [
      "Result for RMSE_rating1:  1.2835113412261856\n",
      "Result for RMSE_rating1:  1.4030318790145475\n",
      "Result for RMSE_rating1:  1.1867044115682095\n",
      "Result for RMSE_rating1:  1.084751482294964\n",
      "Result for RMSE_rating1:  0.9070525233135424\n"
     ]
    }
   ],
   "source": [
    "# For type 1\n",
    "rating1 = test[test[\"user_id\"].isin(user_list1)]\n",
    "RMSE_rating1_k_10 = computeKNN(train_matrix, rating1, 10, dic_test_top10, matrix_sim)\n",
    "print(\"Result for RMSE_rating1: \", RMSE_rating1_k_10)\n",
    "\n",
    "# For type 2\n",
    "rating2 = test[test[\"user_id\"].isin(user_list2)]\n",
    "RMSE_rating2_k_10 = computeKNN(train_matrix, rating2, 10, dic_test_top10, matrix_sim)\n",
    "print(\"Result for RMSE_rating1: \", RMSE_rating2_k_10)\n",
    "\n",
    "# For type 3\n",
    "rating3 = test[test[\"user_id\"].isin(user_list3)]\n",
    "RMSE_rating3_k_10 = computeKNN(train_matrix, rating3, 10, dic_test_top10, matrix_sim)\n",
    "print(\"Result for RMSE_rating1: \", RMSE_rating3_k_10)\n",
    "\n",
    "# For type 4\n",
    "rating4 = test[test[\"user_id\"].isin(user_list4)]\n",
    "RMSE_rating4_k_10 = computeKNN(train_matrix, rating4, 10, dic_test_top10, matrix_sim)\n",
    "print(\"Result for RMSE_rating1: \", RMSE_rating4_k_10)\n",
    "\n",
    "# For type 5\n",
    "rating5 = test[test[\"user_id\"].isin(user_list5)]\n",
    "RMSE_rating5_k_10 = computeKNN(train_matrix, rating5, 10, dic_test_top10, matrix_sim)\n",
    "print(\"Result for RMSE_rating1: \", RMSE_rating5_k_10)"
   ]
  },
  {
   "cell_type": "code",
   "execution_count": 59,
   "metadata": {
    "collapsed": false,
    "deletable": true,
    "editable": true
   },
   "outputs": [
    {
     "data": {
      "image/png": "[encoded data removed]",
      "text/plain": [
       "<matplotlib.figure.Figure at 0x117c05a58>"
      ]
     },
     "metadata": {},
     "output_type": "display_data"
    }
   ],
   "source": [
    "RMSE_test_ratings = [RMSE_rating1_k_10, RMSE_rating2_k_10, RMSE_rating3_k_10, RMSE_rating4_k_10, RMSE_rating5_k_10]\n",
    "index = np.arange(5)\n",
    "rects = plt.bar(index, RMSE_test_ratings, alpha=0.5)  \n",
    "\n",
    "plt.xlabel('Ratings') \n",
    "plt.ylabel('RMSE')\n",
    "plt.title('RMSE for different types of users using KNN (K=10)') \n",
    "plt.xticks(index, ('1', '2', '3', '4', '5')) \n",
    "plt.ylim(0,2) \n",
    "\n",
    "plt.show()"
   ]
  }
 ],
 "metadata": {
  "kernelspec": {
   "display_name": "Python 3",
   "language": "python",
   "name": "python3"
  },
  "language_info": {
   "codemirror_mode": {
    "name": "ipython",
    "version": 3
   },
   "file_extension": ".py",
   "mimetype": "text/x-python",
   "name": "python",
   "nbconvert_exporter": "python",
   "pygments_lexer": "ipython3",
   "version": "3.6.0"
  }
 },
 "nbformat": 4,
 "nbformat_minor": 2
}
