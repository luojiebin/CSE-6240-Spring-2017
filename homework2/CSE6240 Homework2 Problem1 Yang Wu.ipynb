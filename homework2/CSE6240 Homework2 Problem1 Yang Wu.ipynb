{
 "cells": [
  {
   "cell_type": "markdown",
   "metadata": {
    "deletable": true,
    "editable": true
   },
   "source": [
    "# Problem 1"
   ]
  },
  {
   "cell_type": "markdown",
   "metadata": {
    "deletable": true,
    "editable": true
   },
   "source": [
    "## Load the datasets"
   ]
  },
  {
   "cell_type": "code",
   "execution_count": 1,
   "metadata": {
    "collapsed": true,
    "deletable": true,
    "editable": true
   },
   "outputs": [],
   "source": [
    "import pandas as pd\n",
    "import numpy as np\n",
    "\n",
    "table = pd.read_table('./ml-100k/u.data', names=['user_id', 'item_id', 'rating', 'timestamp'], lineterminator='\\n')\n",
    "train = pd.read_table('./ml-100k/ua.base', names=['user_id', 'item_id', 'rating', 'timestamp'], lineterminator='\\n')\n",
    "test = pd.read_table('./ml-100k/ua.test', names=['user_id', 'item_id', 'rating', 'timestamp'], lineterminator='\\n')"
   ]
  },
  {
   "cell_type": "markdown",
   "metadata": {
    "collapsed": true,
    "deletable": true,
    "editable": true
   },
   "source": [
    "## Plot the histogram"
   ]
  },
  {
   "cell_type": "code",
   "execution_count": 2,
   "metadata": {
    "collapsed": false,
    "deletable": true,
    "editable": true
   },
   "outputs": [],
   "source": [
    "import matplotlib.pyplot as plt\n",
    "import matplotlib\n",
    "# matplotlib.style.use('ggplot')\n",
    "%matplotlib inline"
   ]
  },
  {
   "cell_type": "code",
   "execution_count": 3,
   "metadata": {
    "collapsed": false,
    "deletable": true,
    "editable": true
   },
   "outputs": [
    {
     "data": {
      "image/png": "[encoded data removed]",
      "text/plain": [
       "<matplotlib.figure.Figure at 0x11852d4e0>"
      ]
     },
     "metadata": {},
     "output_type": "display_data"
    }
   ],
   "source": [
    "# Set the data\n",
    "n_item = table['item_id'].max()\n",
    "n_ratings_item = []\n",
    "\n",
    "for i in range(1, n_item + 1):\n",
    "    n = len(table[table[\"item_id\"] == i])\n",
    "    n_ratings_item.append(n)\n",
    "\n",
    "# Set the histogram\n",
    "n, bins, patches = plt.hist(n_ratings_item, 20, alpha = 0.5)\n",
    "\n",
    "plt.xlabel('Number of ratings of item')\n",
    "plt.ylabel('Frequency')\n",
    "plt.title(\"Histogram - Number of Ratings for A Movie.\")\n",
    "\n",
    "plt.show()"
   ]
  },
  {
   "cell_type": "code",
   "execution_count": 4,
   "metadata": {
    "collapsed": false,
    "deletable": true,
    "editable": true
   },
   "outputs": [
    {
     "data": {
      "image/png": "[encoded data removed]",
      "text/plain": [
       "<matplotlib.figure.Figure at 0x11b249898>"
      ]
     },
     "metadata": {},
     "output_type": "display_data"
    }
   ],
   "source": [
    "# Set the data\n",
    "n_user = table['user_id'].max()\n",
    "n_ratings_user = []\n",
    "\n",
    "for i in range(1, n_item + 1):\n",
    "    n = len(table[table[\"user_id\"] == i])\n",
    "    n_ratings_user.append(n)\n",
    "\n",
    "# Set the histogram\n",
    "n, bins, patches = plt.hist(n_ratings_user, 20, alpha = 0.5)\n",
    "\n",
    "plt.xlabel('Number of ratings of user')\n",
    "plt.ylabel('Frequency')\n",
    "plt.title(\"Histogram - Number of Ratings for A User.\")\n",
    "\n",
    "plt.show()"
   ]
  },
  {
   "cell_type": "markdown",
   "metadata": {
    "collapsed": true,
    "deletable": true,
    "editable": true
   },
   "source": [
    "## Recommender - Baseline Predictor"
   ]
  },
  {
   "cell_type": "code",
   "execution_count": 5,
   "metadata": {
    "collapsed": false,
    "deletable": true,
    "editable": true
   },
   "outputs": [],
   "source": [
    "# Create the user-item matrix\n",
    "train_matrix = np.zeros((n_user, n_item))\n",
    "test_matrix = np.zeros((n_user, n_item))\n",
    "\n",
    "# Fill the matrix with the ratings\n",
    "def fill_matrix(matrix, data):\n",
    "    row, col = matrix.shape\n",
    "    for u in range(1, row + 1):\n",
    "        items = data[data['user_id'] == u]\n",
    "        for index in items.index:\n",
    "            df = items.loc[index]\n",
    "            i = df['item_id']\n",
    "            matrix[u - 1, i - 1] = df['rating']  \n",
    "            \n",
    "fill_matrix(train_matrix, train)\n",
    "fill_matrix(test_matrix, test)"
   ]
  },
  {
   "cell_type": "code",
   "execution_count": 6,
   "metadata": {
    "collapsed": false,
    "deletable": true,
    "editable": true
   },
   "outputs": [],
   "source": [
    "# Compute overall average rating\n",
    "mu = train['rating'].mean()\n",
    "\n",
    "# Set the values of regularizers\n",
    "lambda_2 = 25\n",
    "lambda_3 = 10\n",
    "\n",
    "# Compute deviation of user and item\n",
    "def compute(mu, data, lmd, arr, row, r):\n",
    "    temp = data.copy()\n",
    "    bias = np.tile(arr, [row, 1])\n",
    "    flag = data > 0\n",
    "    temp[flag] = data[flag] - mu - bias[flag]\n",
    "    ans = temp.sum(axis = r) / (flag.sum(axis = r) + lmd)\n",
    "    return ans\n",
    "\n",
    "bi = compute(mu, train_matrix, lambda_2, np.zeros(n_item), n_user, 0)\n",
    "bu = compute(mu, train_matrix, lambda_3, bi, n_user, 1)"
   ]
  },
  {
   "cell_type": "markdown",
   "metadata": {
    "deletable": true,
    "editable": true
   },
   "source": [
    "### Part (a) Compute the RMSE for baseline predictor"
   ]
  },
  {
   "cell_type": "code",
   "execution_count": 7,
   "metadata": {
    "collapsed": false,
    "deletable": true,
    "editable": true
   },
   "outputs": [
    {
     "name": "stdout",
     "output_type": "stream",
     "text": [
      "0.9664817838879254\n"
     ]
    }
   ],
   "source": [
    "# Compute the mean square error\n",
    "import math\n",
    "\n",
    "def computeRMSE(data, u_list, mu, bi, bu):\n",
    "    user, item = np.where(data != 0)\n",
    "    \n",
    "    RMSE_sum = 0\n",
    "    num = len(user)\n",
    "    for r in range(num):\n",
    "        i = item[r]\n",
    "        u_test = user[r]\n",
    "        u = u_list[u_test]\n",
    "        RMSE_sum += math.pow(mu + bi[i] + bu[u] - data[u_test, i], 2)\n",
    "        \n",
    "    RMSE_value = math.pow(RMSE_sum / num, 0.5)\n",
    "    return RMSE_value\n",
    "\n",
    "RMSE_test = computeRMSE(test_matrix, range(n_user), mu, bi, bu)\n",
    "\n",
    "print(RMSE_test)"
   ]
  },
  {
   "cell_type": "markdown",
   "metadata": {
    "deletable": true,
    "editable": true
   },
   "source": [
    "### Part (c) Plot the RMSE per user"
   ]
  },
  {
   "cell_type": "code",
   "execution_count": 8,
   "metadata": {
    "collapsed": false,
    "deletable": true,
    "editable": true
   },
   "outputs": [],
   "source": [
    "# Compute the average rating of each user\n",
    "avg_user_rating = []\n",
    "for i in range(n_user):\n",
    "    arr = train_matrix[i, :]\n",
    "    avg_rating = sum(arr) / len(np.where(arr != 0)[0])\n",
    "    avg_user_rating.append(avg_rating)\n",
    "\n",
    "# print(max(avg_user_rating))\n",
    "# print(min(avg_user_rating))"
   ]
  },
  {
   "cell_type": "code",
   "execution_count": 9,
   "metadata": {
    "collapsed": false,
    "deletable": true,
    "editable": true
   },
   "outputs": [],
   "source": [
    "# Split the user based on their average rating\n",
    "max_user_avg = max(avg_user_rating)\n",
    "min_user_avg = min(avg_user_rating)\n",
    "step = (max_user_avg - min_user_avg) / 5\n",
    "\n",
    "user_list1 = []\n",
    "user_list2 = []\n",
    "user_list3 = []\n",
    "user_list4 = []\n",
    "user_list5 = []\n",
    "\n",
    "for i in range(len(avg_user_rating)):\n",
    "    if avg_user_rating[i] <= (min_user_avg + step):\n",
    "        user_list1.append(i)\n",
    "    elif (min_user_avg + step) < avg_user_rating[i] <= (min_user_avg + step * 2):\n",
    "        user_list2.append(i)\n",
    "    elif (min_user_avg + step * 2) < avg_user_rating[i] <= (min_user_avg + step * 3):\n",
    "        user_list3.append(i)\n",
    "    elif (min_user_avg + step * 3) < avg_user_rating[i] <= (min_user_avg + step * 4):\n",
    "        user_list4.append(i)\n",
    "    else:\n",
    "        user_list5.append(i)"
   ]
  },
  {
   "cell_type": "code",
   "execution_count": 10,
   "metadata": {
    "collapsed": false,
    "deletable": true,
    "editable": true
   },
   "outputs": [
    {
     "name": "stdout",
     "output_type": "stream",
     "text": [
      "RMSE for category 1: 1.108865965786421\n",
      "RMSE for category 2: 1.1508343053085417\n",
      "RMSE for category 3: 1.0007633817384751\n",
      "RMSE for category 4: 0.9264089800064111\n",
      "RMSE for category 5: 0.8878669173390428\n"
     ]
    }
   ],
   "source": [
    "# Compute RMSE based on these subsets of users\n",
    "# For type 1\n",
    "part_1 = test_matrix[user_list1, :]\n",
    "RMSE_part_1 = computeRMSE(part_1, user_list1, mu, bi, bu)\n",
    "print(\"RMSE for category 1:\", RMSE_part_1)\n",
    "\n",
    "# For type 2\n",
    "part_2 = test_matrix[user_list2, :]\n",
    "RMSE_part_2 = computeRMSE(part_2, user_list2, mu, bi, bu)\n",
    "print(\"RMSE for category 2:\", RMSE_part_2)\n",
    "\n",
    "# For type 3\n",
    "part_3 = test_matrix[user_list3, :]\n",
    "RMSE_part_3 = computeRMSE(part_3, user_list3, mu, bi, bu)\n",
    "print(\"RMSE for category 3:\", RMSE_part_3)\n",
    "\n",
    "# For type 4\n",
    "part_4 = test_matrix[user_list4, :]\n",
    "RMSE_part_4 = computeRMSE(part_4, user_list4, mu, bi, bu)\n",
    "print(\"RMSE for category 4:\", RMSE_part_4)\n",
    "\n",
    "# For type 5\n",
    "part_5 = test_matrix[user_list5, :]\n",
    "RMSE_part_5 = computeRMSE(part_5, user_list5, mu, bi, bu)\n",
    "print(\"RMSE for category 5:\", RMSE_part_5)"
   ]
  },
  {
   "cell_type": "code",
   "execution_count": 11,
   "metadata": {
    "collapsed": false,
    "deletable": true,
    "editable": true
   },
   "outputs": [
    {
     "data": {
      "image/png": "[encoded data removed]",
      "text/plain": [
       "<matplotlib.figure.Figure at 0x11b355a20>"
      ]
     },
     "metadata": {},
     "output_type": "display_data"
    }
   ],
   "source": [
    "# Plot the histogram for different types of users\n",
    "RMSE_test_ratings = [RMSE_part_1, RMSE_part_2, RMSE_part_3, RMSE_part_4, RMSE_part_5]\n",
    "index = np.arange(5)\n",
    "# plt.figure(figsize=(10, 5))\n",
    "rects = plt.bar(index, RMSE_test_ratings, alpha=0.5)  \n",
    "\n",
    "plt.xlabel('User Types') \n",
    "plt.ylabel('RMSE')\n",
    "plt.title('RMSE for all the test ratings') \n",
    "plt.xticks(index, (str(round((min_user_avg),2)), str(round((min_user_avg + step),2)), \n",
    "                   str(round((min_user_avg + 2*step),2)), str(round((min_user_avg + 3*step),2)), \n",
    "                   str(round((min_user_avg + 4*step),2)))) \n",
    "plt.ylim(0, 1.5)\n",
    "plt.show()"
   ]
  },
  {
   "cell_type": "markdown",
   "metadata": {
    "deletable": true,
    "editable": true
   },
   "source": [
    "## Recommender -  K-nearest neighbor"
   ]
  },
  {
   "cell_type": "markdown",
   "metadata": {
    "deletable": true,
    "editable": true
   },
   "source": [
    "### Compute the similarity matrix"
   ]
  },
  {
   "cell_type": "code",
   "execution_count": 12,
   "metadata": {
    "collapsed": false,
    "deletable": true,
    "editable": true
   },
   "outputs": [],
   "source": [
    "# Compute the similarity matrix\n",
    "def similarity(data, avg, n):\n",
    "    matrix = np.zeros((n, n))\n",
    "    \n",
    "    print(\"Computing the similarity matrix...\")\n",
    "    for i in range(n):\n",
    "        if i % 100 == 0:\n",
    "            print(i)\n",
    "        for j in range(i + 1, n):\n",
    "            user_1 = np.where(data[:, i] != 0)[0]\n",
    "            user_2 = np.where(data[:, j] != 0)[0]\n",
    "            common = np.intersect1d(user_1, user_2)\n",
    "            if len(common) == 0:\n",
    "                matrix[i, j] = 0.00001\n",
    "            else:\n",
    "                avg_rating = np.array(avg)[common]\n",
    "                diff_1 = data[common, i] - avg_rating\n",
    "                diff_2 = data[common, j] - avg_rating\n",
    "                numerator = np.dot(diff_1, diff_2)\n",
    "                if numerator == 0:\n",
    "                    matrix[i, j] = 0.00001\n",
    "                else: \n",
    "                    denominator_left = np.dot(diff_1, diff_1)\n",
    "                    denominator_right = np.dot(diff_2, diff_2)\n",
    "                    matrix[i, j] = numerator / (math.pow(denominator_left * denominator_right, 0.5) + 0.00001)\n",
    "    matrix = matrix + matrix.T\n",
    "    print(\"Done!\")\n",
    "    return matrix"
   ]
  },
  {
   "cell_type": "code",
   "execution_count": 13,
   "metadata": {
    "collapsed": false,
    "deletable": true,
    "editable": true,
    "scrolled": false
   },
   "outputs": [
    {
     "name": "stdout",
     "output_type": "stream",
     "text": [
      "Computing the similarity matrix...\n",
      "0\n",
      "100\n",
      "200\n",
      "300\n",
      "400\n",
      "500\n",
      "600\n",
      "700\n",
      "800\n",
      "900\n",
      "1000\n",
      "1100\n",
      "1200\n",
      "1300\n",
      "1400\n",
      "1500\n",
      "1600\n",
      "Done!\n"
     ]
    }
   ],
   "source": [
    "matrix_sim = similarity(train_matrix, avg_user_rating, n_item)"
   ]
  },
  {
   "cell_type": "markdown",
   "metadata": {
    "deletable": true,
    "editable": true
   },
   "source": [
    "### Part (a). Compute RMSE for kNN"
   ]
  },
  {
   "cell_type": "code",
   "execution_count": 14,
   "metadata": {
    "collapsed": true,
    "deletable": true,
    "editable": true
   },
   "outputs": [],
   "source": [
    "def computeKNN(train, test, u_list, k, matrix):\n",
    "    user_list, item_list = np.where(test != 0)\n",
    "    \n",
    "    RMSE_sum = 0\n",
    "    n = len(user_list)\n",
    "    for i in range(n):\n",
    "        user = u_list[user_list[i]] # Get the index of user in train set\n",
    "        user_test = user_list[i] # Get the index of user in test set\n",
    "        item = item_list[i]\n",
    "        \n",
    "        # Find top k similar items\n",
    "        user_item = np.where(train[user, :] != 0)[0]\n",
    "        similarity = matrix[user_item, item]\n",
    "        top_k_index = np.argsort(-similarity)[:k]\n",
    "        top_k = user_item[top_k_index]\n",
    "        \n",
    "        # Predict rating\n",
    "        numerator = np.dot(matrix[item, top_k], train[user, top_k])\n",
    "        denominator = sum(abs(matrix[item, top_k]))\n",
    "        rating = numerator / denominator\n",
    "        \n",
    "        RMSE_sum += math.pow(rating - test[user_test, item], 2)\n",
    "        \n",
    "    RMSE_value = math.pow(RMSE_sum / n, 0.5) \n",
    "    \n",
    "    return RMSE_value"
   ]
  },
  {
   "cell_type": "code",
   "execution_count": 16,
   "metadata": {
    "collapsed": false,
    "deletable": true,
    "editable": true
   },
   "outputs": [
    {
     "name": "stdout",
     "output_type": "stream",
     "text": [
      "Result for RMSE_K_1: 1.372700043079869\n",
      "Result for RMSE_K_2: 1.1850536760728045\n",
      "Result for RMSE_K_3: 1.1179322309306872\n",
      "Result for RMSE_K_5: 1.0758275282280463\n",
      "Result for RMSE_K_10: 1.328797652326211\n"
     ]
    }
   ],
   "source": [
    "RMSE_K_1 = computeKNN(train_matrix, test_matrix, range(n_user), 1, matrix_sim)\n",
    "print(\"Result for RMSE_K_1:\", RMSE_K_1)\n",
    "\n",
    "RMSE_K_2 = computeKNN(train_matrix, test_matrix, range(n_user), 2, matrix_sim)\n",
    "print(\"Result for RMSE_K_2:\", RMSE_K_2)\n",
    "\n",
    "RMSE_K_3 = computeKNN(train_matrix, test_matrix, range(n_user), 3, matrix_sim)\n",
    "print(\"Result for RMSE_K_3:\", RMSE_K_3)\n",
    "\n",
    "RMSE_K_5 = computeKNN(train_matrix, test_matrix, range(n_user), 5, matrix_sim)\n",
    "print(\"Result for RMSE_K_5:\", RMSE_K_5)\n",
    "\n",
    "RMSE_K_10 = computeKNN(train_matrix, test_matrix, range(n_user), 10, matrix_sim)\n",
    "print(\"Result for RMSE_K_10:\", RMSE_K_10)"
   ]
  },
  {
   "cell_type": "markdown",
   "metadata": {
    "deletable": true,
    "editable": true
   },
   "source": [
    "Obviously, k = 5 is the optimal one"
   ]
  },
  {
   "cell_type": "markdown",
   "metadata": {
    "deletable": true,
    "editable": true
   },
   "source": [
    "### Part (c). Plot the RMSE per user"
   ]
  },
  {
   "cell_type": "markdown",
   "metadata": {
    "deletable": true,
    "editable": true
   },
   "source": [
    "### k = 1"
   ]
  },
  {
   "cell_type": "code",
   "execution_count": 17,
   "metadata": {
    "collapsed": false,
    "deletable": true,
    "editable": true
   },
   "outputs": [
    {
     "name": "stdout",
     "output_type": "stream",
     "text": [
      "Result for RMSE_part_1: 1.5110702608857516\n",
      "Result for RMSE_part_2: 1.5748015748023623\n",
      "Result for RMSE_part_3: 1.4494196903216465\n",
      "Result for RMSE_part_4: 1.319123272062377\n",
      "Result for RMSE_part_5: 1.0954451150103321\n"
     ]
    }
   ],
   "source": [
    "# For type 1\n",
    "RMSE_part_1_k_1 = computeKNN(train_matrix, part_1, user_list1, 1, matrix_sim)\n",
    "print(\"Result for RMSE_part_1:\", RMSE_part_1_k_1)\n",
    "\n",
    "# For type 2\n",
    "RMSE_part_2_k_1 = computeKNN(train_matrix, part_2, user_list2, 1, matrix_sim)\n",
    "print(\"Result for RMSE_part_2:\", RMSE_part_2_k_1)\n",
    "\n",
    "# For type 3\n",
    "RMSE_part_3_k_1 = computeKNN(train_matrix, part_3, user_list3, 1, matrix_sim)\n",
    "print(\"Result for RMSE_part_3:\", RMSE_part_3_k_1)\n",
    "\n",
    "# For type 4\n",
    "RMSE_part_4_k_1 = computeKNN(train_matrix, part_4, user_list4, 1, matrix_sim)\n",
    "print(\"Result for RMSE_part_4:\", RMSE_part_4_k_1)\n",
    "\n",
    "# For type 5\n",
    "RMSE_part_5_k_1 = computeKNN(train_matrix, part_5, user_list5, 1, matrix_sim)\n",
    "print(\"Result for RMSE_part_5:\", RMSE_part_5_k_1)"
   ]
  },
  {
   "cell_type": "code",
   "execution_count": 18,
   "metadata": {
    "collapsed": false,
    "deletable": true,
    "editable": true
   },
   "outputs": [
    {
     "data": {
      "image/png": "[encoded data removed]",
      "text/plain": [
       "<matplotlib.figure.Figure at 0x11b212358>"
      ]
     },
     "metadata": {},
     "output_type": "display_data"
    }
   ],
   "source": [
    "RMSE_test_ratings = [RMSE_part_1_k_1, RMSE_part_2_k_1, RMSE_part_3_k_1, RMSE_part_4_k_1, RMSE_part_5_k_1]\n",
    "index = np.arange(5)\n",
    "rects = plt.bar(index, RMSE_test_ratings, alpha=0.5)  \n",
    "\n",
    "plt.xlabel('Ratings') \n",
    "plt.ylabel('RMSE')\n",
    "plt.title('RMSE for different types of users using KNN (K=1)') \n",
    "plt.xticks(index, ('1', '2', '3', '4', '5')) \n",
    "plt.ylim(0, 2.0) \n",
    "\n",
    "plt.show()"
   ]
  },
  {
   "cell_type": "markdown",
   "metadata": {
    "deletable": true,
    "editable": true
   },
   "source": [
    "### k = 2"
   ]
  },
  {
   "cell_type": "code",
   "execution_count": 19,
   "metadata": {
    "collapsed": false,
    "deletable": true,
    "editable": true
   },
   "outputs": [
    {
     "name": "stdout",
     "output_type": "stream",
     "text": [
      "Result for RMSE_part_1: 1.3731113742871752\n",
      "Result for RMSE_part_2: 1.4283978782820157\n",
      "Result for RMSE_part_3: 1.2457298772478758\n",
      "Result for RMSE_part_4: 1.1296941956638067\n",
      "Result for RMSE_part_5: 0.9875436360937534\n"
     ]
    }
   ],
   "source": [
    "# For type 1\n",
    "# part_1 = test_matrix[user_list1]\n",
    "RMSE_part_1_k_2 = computeKNN(train_matrix, part_1, user_list1, 2, matrix_sim)\n",
    "print(\"Result for RMSE_part_1:\", RMSE_part_1_k_2)\n",
    "\n",
    "# For type 2\n",
    "# part_2 = test_matrix[user_list2]\n",
    "RMSE_part_2_k_2 = computeKNN(train_matrix, part_2, user_list2, 2, matrix_sim)\n",
    "print(\"Result for RMSE_part_2:\", RMSE_part_2_k_2)\n",
    "\n",
    "# For type 3\n",
    "# part_3 = test_matrix[user_list3]\n",
    "RMSE_part_3_k_2 = computeKNN(train_matrix, part_3, user_list3, 2, matrix_sim)\n",
    "print(\"Result for RMSE_part_3:\", RMSE_part_3_k_2)\n",
    "\n",
    "# For type 4\n",
    "# part_4 = test_matrix[user_list4]\n",
    "RMSE_part_4_k_2 = computeKNN(train_matrix, part_4, user_list4, 2, matrix_sim)\n",
    "print(\"Result for RMSE_part_4:\", RMSE_part_4_k_2)\n",
    "\n",
    "# For type 5\n",
    "# part_5 = test_matrix[user_list5]\n",
    "RMSE_part_5_k_2 = computeKNN(train_matrix, part_5, user_list5, 2, matrix_sim)\n",
    "print(\"Result for RMSE_part_5:\", RMSE_part_5_k_2)"
   ]
  },
  {
   "cell_type": "code",
   "execution_count": 20,
   "metadata": {
    "collapsed": false,
    "deletable": true,
    "editable": true
   },
   "outputs": [
    {
     "data": {
      "image/png": "[encoded data removed]",
      "text/plain": [
       "<matplotlib.figure.Figure at 0x11b31fc88>"
      ]
     },
     "metadata": {},
     "output_type": "display_data"
    }
   ],
   "source": [
    "RMSE_test_ratings = [RMSE_part_1_k_2, RMSE_part_2_k_2, RMSE_part_3_k_2, RMSE_part_4_k_2, RMSE_part_5_k_2]\n",
    "index = np.arange(5)\n",
    "rects = plt.bar(index, RMSE_test_ratings, alpha=0.5)  \n",
    "\n",
    "plt.xlabel('Ratings') \n",
    "plt.ylabel('RMSE')\n",
    "plt.title('RMSE for different types of users using KNN (K=2)') \n",
    "plt.xticks(index, ('1', '2', '3', '4', '5')) \n",
    "plt.ylim(0, 2.0) \n",
    "\n",
    "plt.show()"
   ]
  },
  {
   "cell_type": "markdown",
   "metadata": {
    "deletable": true,
    "editable": true
   },
   "source": [
    "### k = 3"
   ]
  },
  {
   "cell_type": "code",
   "execution_count": 21,
   "metadata": {
    "collapsed": false,
    "deletable": true,
    "editable": true
   },
   "outputs": [
    {
     "name": "stdout",
     "output_type": "stream",
     "text": [
      "Result for RMSE_part_1: 1.3111708225280103\n",
      "Result for RMSE_part_2: 1.3464001343471315\n",
      "Result for RMSE_part_3: 1.1687501971256042\n",
      "Result for RMSE_part_4: 1.0701585527758861\n",
      "Result for RMSE_part_5: 0.940353205245611\n"
     ]
    }
   ],
   "source": [
    "# For type 1\n",
    "# part_1 = test_matrix[user_list1]\n",
    "RMSE_part_1_k_3 = computeKNN(train_matrix, part_1, user_list1, 3, matrix_sim)\n",
    "print(\"Result for RMSE_part_1:\", RMSE_part_1_k_3)\n",
    "\n",
    "# For type 2\n",
    "# part_2 = test_matrix[user_list2]\n",
    "RMSE_part_2_k_3 = computeKNN(train_matrix, part_2, user_list2, 3, matrix_sim)\n",
    "print(\"Result for RMSE_part_2:\", RMSE_part_2_k_3)\n",
    "\n",
    "# For type 3\n",
    "# part_3 = test_matrix[user_list3]\n",
    "RMSE_part_3_k_3 = computeKNN(train_matrix, part_3, user_list3, 3, matrix_sim)\n",
    "print(\"Result for RMSE_part_3:\", RMSE_part_3_k_3)\n",
    "\n",
    "# For type 4\n",
    "# part_4 = test_matrix[user_list4]\n",
    "RMSE_part_4_k_3 = computeKNN(train_matrix, part_4, user_list4, 3, matrix_sim)\n",
    "print(\"Result for RMSE_part_4:\", RMSE_part_4_k_3)\n",
    "\n",
    "# For type 5\n",
    "# part_5 = test_matrix[user_list5]\n",
    "RMSE_part_5_k_3 = computeKNN(train_matrix, part_5, user_list5, 3, matrix_sim)\n",
    "print(\"Result for RMSE_part_5:\", RMSE_part_5_k_3)"
   ]
  },
  {
   "cell_type": "code",
   "execution_count": 22,
   "metadata": {
    "collapsed": false,
    "deletable": true,
    "editable": true
   },
   "outputs": [
    {
     "data": {
      "image/png": "[encoded data removed]",
      "text/plain": [
       "<matplotlib.figure.Figure at 0x1249cc6d8>"
      ]
     },
     "metadata": {},
     "output_type": "display_data"
    }
   ],
   "source": [
    "RMSE_test_ratings = [RMSE_part_1_k_3, RMSE_part_2_k_3, RMSE_part_3_k_3, RMSE_part_4_k_3, RMSE_part_5_k_3]\n",
    "index = np.arange(5)\n",
    "rects = plt.bar(index, RMSE_test_ratings, alpha=0.5)  \n",
    "\n",
    "plt.xlabel('Ratings') \n",
    "plt.ylabel('RMSE')\n",
    "plt.title('RMSE for different types of users using KNN (K=3)') \n",
    "plt.xticks(index, ('1', '2', '3', '4', '5')) \n",
    "plt.ylim(0, 2.0) \n",
    "\n",
    "plt.show()"
   ]
  },
  {
   "cell_type": "markdown",
   "metadata": {
    "deletable": true,
    "editable": true
   },
   "source": [
    "### k = 5"
   ]
  },
  {
   "cell_type": "code",
   "execution_count": 23,
   "metadata": {
    "collapsed": false,
    "deletable": true,
    "editable": true
   },
   "outputs": [
    {
     "name": "stdout",
     "output_type": "stream",
     "text": [
      "Result for RMSE_part_1: 1.3269868247831351\n",
      "Result for RMSE_part_2: 1.3296076656903437\n",
      "Result for RMSE_part_3: 1.1092028352623244\n",
      "Result for RMSE_part_4: 1.0339114791384554\n",
      "Result for RMSE_part_5: 0.9389476641833695\n"
     ]
    }
   ],
   "source": [
    "# For type 1\n",
    "# part_1 = test_matrix[user_list1]\n",
    "RMSE_part_1_k_5 = computeKNN(train_matrix, part_1, user_list1, 5, matrix_sim)\n",
    "print(\"Result for RMSE_part_1:\", RMSE_part_1_k_5)\n",
    "\n",
    "# For type 2\n",
    "# part_2 = test_matrix[user_list2]\n",
    "RMSE_part_2_k_5 = computeKNN(train_matrix, part_2, user_list2, 5, matrix_sim)\n",
    "print(\"Result for RMSE_part_2:\", RMSE_part_2_k_5)\n",
    "\n",
    "# For type 3\n",
    "# part_3 = test_matrix[user_list3]\n",
    "RMSE_part_3_k_5 = computeKNN(train_matrix, part_3, user_list3, 5, matrix_sim)\n",
    "print(\"Result for RMSE_part_3:\", RMSE_part_3_k_5)\n",
    "\n",
    "# For type 4\n",
    "# part_4 = test_matrix[user_list4]\n",
    "RMSE_part_4_k_5 = computeKNN(train_matrix, part_4, user_list4, 5, matrix_sim)\n",
    "print(\"Result for RMSE_part_4:\", RMSE_part_4_k_5)\n",
    "\n",
    "# For type 5\n",
    "# part_5 = test_matrix[user_list5]\n",
    "RMSE_part_5_k_5 = computeKNN(train_matrix, part_5, user_list5, 5, matrix_sim)\n",
    "print(\"Result for RMSE_part_5:\", RMSE_part_5_k_5)"
   ]
  },
  {
   "cell_type": "code",
   "execution_count": 24,
   "metadata": {
    "collapsed": false,
    "deletable": true,
    "editable": true
   },
   "outputs": [
    {
     "data": {
      "image/png": "[encoded data removed]",
      "text/plain": [
       "<matplotlib.figure.Figure at 0x1249ebda0>"
      ]
     },
     "metadata": {},
     "output_type": "display_data"
    }
   ],
   "source": [
    "RMSE_test_ratings = [RMSE_part_1_k_5, RMSE_part_2_k_5, RMSE_part_3_k_5, RMSE_part_4_k_5, RMSE_part_5_k_5]\n",
    "index = np.arange(5)\n",
    "rects = plt.bar(index, RMSE_test_ratings, alpha=0.5)  \n",
    "\n",
    "plt.xlabel('Ratings') \n",
    "plt.ylabel('RMSE')\n",
    "plt.title('RMSE for different types of users using KNN (K=5)') \n",
    "plt.xticks(index, ('1', '2', '3', '4', '5')) \n",
    "plt.ylim(0, 2.0) \n",
    "\n",
    "plt.show()"
   ]
  },
  {
   "cell_type": "markdown",
   "metadata": {
    "deletable": true,
    "editable": true
   },
   "source": [
    "### k = 10"
   ]
  },
  {
   "cell_type": "code",
   "execution_count": 25,
   "metadata": {
    "collapsed": false,
    "deletable": true,
    "editable": true
   },
   "outputs": [
    {
     "name": "stdout",
     "output_type": "stream",
     "text": [
      "Result for RMSE_part_1: 1.5014625370243115\n",
      "Result for RMSE_part_2: 1.8652530397935294\n",
      "Result for RMSE_part_3: 1.3098744082578586\n",
      "Result for RMSE_part_4: 1.2278478437658313\n",
      "Result for RMSE_part_5: 1.6483973490014656\n"
     ]
    }
   ],
   "source": [
    "# For type 1\n",
    "# part_1 = test_matrix[user_list1]\n",
    "RMSE_part_1_k_10 = computeKNN(train_matrix, part_1, user_list1, 10, matrix_sim)\n",
    "print(\"Result for RMSE_part_1:\", RMSE_part_1_k_10)\n",
    "\n",
    "# For type 2\n",
    "# part_2 = test_matrix[user_list2]\n",
    "RMSE_part_2_k_10 = computeKNN(train_matrix, part_2, user_list2, 10, matrix_sim)\n",
    "print(\"Result for RMSE_part_2:\", RMSE_part_2_k_10)\n",
    "\n",
    "# For type 3\n",
    "# part_3 = test_matrix[user_list3]\n",
    "RMSE_part_3_k_10 = computeKNN(train_matrix, part_3, user_list3, 10, matrix_sim)\n",
    "print(\"Result for RMSE_part_3:\", RMSE_part_3_k_10)\n",
    "\n",
    "# For type 4\n",
    "# part_4 = test_matrix[user_list4]\n",
    "RMSE_part_4_k_10 = computeKNN(train_matrix, part_4, user_list4, 10, matrix_sim)\n",
    "print(\"Result for RMSE_part_4:\", RMSE_part_4_k_10)\n",
    "\n",
    "# For type 5\n",
    "# part_5 = test_matrix[user_list5]\n",
    "RMSE_part_5_k_10 = computeKNN(train_matrix, part_5, user_list5, 10, matrix_sim)\n",
    "print(\"Result for RMSE_part_5:\", RMSE_part_5_k_10)"
   ]
  },
  {
   "cell_type": "code",
   "execution_count": 26,
   "metadata": {
    "collapsed": false,
    "deletable": true,
    "editable": true
   },
   "outputs": [
    {
     "data": {
      "image/png": "[encoded data removed]",
      "text/plain": [
       "<matplotlib.figure.Figure at 0x124b136d8>"
      ]
     },
     "metadata": {},
     "output_type": "display_data"
    }
   ],
   "source": [
    "RMSE_test_ratings = [RMSE_part_1_k_10, RMSE_part_2_k_10, RMSE_part_3_k_10, RMSE_part_4_k_10, RMSE_part_5_k_10]\n",
    "index = np.arange(5)\n",
    "rects = plt.bar(index, RMSE_test_ratings, alpha=0.5)  \n",
    "\n",
    "plt.xlabel('Ratings') \n",
    "plt.ylabel('RMSE')\n",
    "plt.title('RMSE for different types of users using KNN (K=10)') \n",
    "plt.xticks(index, ('1', '2', '3', '4', '5')) \n",
    "plt.ylim(0, 2.0) \n",
    "\n",
    "plt.show()"
   ]
  },
  {
   "cell_type": "code",
   "execution_count": null,
   "metadata": {
    "collapsed": true,
    "deletable": true,
    "editable": true
   },
   "outputs": [],
   "source": []
  }
 ],
 "metadata": {
  "kernelspec": {
   "display_name": "Python 3",
   "language": "python",
   "name": "python3"
  },
  "language_info": {
   "codemirror_mode": {
    "name": "ipython",
    "version": 3
   },
   "file_extension": ".py",
   "mimetype": "text/x-python",
   "name": "python",
   "nbconvert_exporter": "python",
   "pygments_lexer": "ipython3",
   "version": "3.6.0"
  }
 },
 "nbformat": 4,
 "nbformat_minor": 2
}
