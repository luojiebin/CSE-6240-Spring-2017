{
 "cells": [
  {
   "cell_type": "markdown",
   "metadata": {
    "deletable": true,
    "editable": true
   },
   "source": [
    "# Analyzing a Movie Review Dataset - Part 2"
   ]
  },
  {
   "cell_type": "markdown",
   "metadata": {
    "deletable": true,
    "editable": true
   },
   "source": [
    "## 1. Word2Vec"
   ]
  },
  {
   "cell_type": "markdown",
   "metadata": {
    "deletable": true,
    "editable": true
   },
   "source": [
    "### Part a - Create our vector representation"
   ]
  },
  {
   "cell_type": "code",
   "execution_count": 1,
   "metadata": {
    "collapsed": false,
    "deletable": true,
    "editable": true
   },
   "outputs": [
    {
     "name": "stdout",
     "output_type": "stream",
     "text": [
      "Read 25000 labeled train reviews, 25000 labeled test reviews, and 50000 unlabeled reviews\n",
      "\n"
     ]
    }
   ],
   "source": [
    "import pandas as pd\n",
    "import numpy as np\n",
    "\n",
    "# Read data from files \n",
    "train = pd.read_csv(\"labeledTrainData.tsv\", header=0, delimiter=\"\\t\", quoting=3)\n",
    "test = pd.read_csv(\"testData.tsv\", header=0, delimiter=\"\\t\", quoting=3)\n",
    "unlabeled_train = pd.read_csv(\"unlabeledTrainData.tsv\", header=0, delimiter=\"\\t\", quoting=3)\n",
    "\n",
    "# Verify the number of reviews that were read (100,000 in total)\n",
    "print(\"Read %d labeled train reviews, %d labeled test reviews, and %d unlabeled reviews\\n\" \n",
    "      % (train[\"review\"].size, test[\"review\"].size, unlabeled_train[\"review\"].size ))"
   ]
  },
  {
   "cell_type": "code",
   "execution_count": 2,
   "metadata": {
    "collapsed": true,
    "deletable": true,
    "editable": true
   },
   "outputs": [],
   "source": [
    "# Import various modules for string cleaning\n",
    "from bs4 import BeautifulSoup\n",
    "import re\n",
    "from nltk.corpus import stopwords\n",
    "\n",
    "def review_to_wordlist(review, remove_stopwords=False):\n",
    "    # Function to convert a document to a sequence of words,\n",
    "    # optionally removing stop words.  Returns a list of words.\n",
    "    #\n",
    "    # 1. Remove HTML\n",
    "    review_text = BeautifulSoup(review).get_text()\n",
    "    #  \n",
    "    # 2. Remove non-letters\n",
    "    review_text = re.sub(\"[^a-zA-Z]\", \" \", review_text)\n",
    "    #\n",
    "    # 3. Convert words to lower case and split them\n",
    "    words = review_text.lower().split()\n",
    "    #\n",
    "    # 4. Optionally remove stop words (false by default)\n",
    "    if remove_stopwords:\n",
    "        stops = set(stopwords.words(\"english\"))\n",
    "        words = [w for w in words if not w in stops]\n",
    "    #\n",
    "    # 5. Return a list of words\n",
    "    return words"
   ]
  },
  {
   "cell_type": "code",
   "execution_count": 3,
   "metadata": {
    "collapsed": false,
    "deletable": true,
    "editable": true
   },
   "outputs": [],
   "source": [
    "import nltk.data\n",
    "# nltk.download()   \n",
    "\n",
    "# Load the punkt tokenizer\n",
    "tokenizer = nltk.data.load('tokenizers/punkt/english.pickle')\n",
    "\n",
    "# Define a function to split a review into parsed sentences\n",
    "def review_to_sentences(review, tokenizer, remove_stopwords=False):\n",
    "    # Function to split a review into parsed sentences. Returns a \n",
    "    # list of sentences, where each sentence is a list of words\n",
    "    #\n",
    "    # 1. Use the NLTK tokenizer to split the paragraph into sentences\n",
    "    raw_sentences = tokenizer.tokenize(review.strip())\n",
    "    #\n",
    "    # 2. Loop over each sentence\n",
    "    sentences = []\n",
    "    for raw_sentence in raw_sentences:\n",
    "        # If a sentence is empty, skip it\n",
    "        if len(raw_sentence) > 0:\n",
    "            # Otherwise, call review_to_wordlist to get a list of words\n",
    "            sentences.append(review_to_wordlist(raw_sentence, remove_stopwords))\n",
    "    #\n",
    "    # Return the list of sentences (each sentence is a list of words,\n",
    "    # so this returns a list of lists\n",
    "    return sentences"
   ]
  },
  {
   "cell_type": "code",
   "execution_count": 4,
   "metadata": {
    "collapsed": false,
    "deletable": true,
    "editable": true
   },
   "outputs": [
    {
     "name": "stdout",
     "output_type": "stream",
     "text": [
      "Parsing sentences from training set\n"
     ]
    },
    {
     "name": "stderr",
     "output_type": "stream",
     "text": [
      "/Users/ywu/miniconda3/lib/python3.6/site-packages/bs4/__init__.py:181: UserWarning: No parser was explicitly specified, so I'm using the best available HTML parser for this system (\"html5lib\"). This usually isn't a problem, but if you run this code on another system, or in a different virtual environment, it may use a different parser and behave differently.\n",
      "\n",
      "The code that caused this warning is on line 193 of the file /Users/ywu/miniconda3/lib/python3.6/runpy.py. To get rid of this warning, change code that looks like this:\n",
      "\n",
      " BeautifulSoup([your markup])\n",
      "\n",
      "to this:\n",
      "\n",
      " BeautifulSoup([your markup], \"html5lib\")\n",
      "\n",
      "  markup_type=markup_type))\n",
      "/Users/ywu/miniconda3/lib/python3.6/site-packages/bs4/__init__.py:219: UserWarning: \"b'.'\" looks like a filename, not markup. You shouldprobably open this file and pass the filehandle intoBeautiful Soup.\n",
      "  'Beautiful Soup.' % markup)\n",
      "/Users/ywu/miniconda3/lib/python3.6/site-packages/bs4/__init__.py:282: UserWarning: \"http://www.happierabroad.com\"\" looks like a URL. Beautiful Soup is not an HTTP client. You should probably use an HTTP client like requests to get the document behind the URL, and feed that document to Beautiful Soup.\n",
      "  ' that document to Beautiful Soup.' % decoded_markup\n"
     ]
    },
    {
     "name": "stdout",
     "output_type": "stream",
     "text": [
      "Parsing sentences from unlabeled set\n"
     ]
    },
    {
     "name": "stderr",
     "output_type": "stream",
     "text": [
      "/Users/ywu/miniconda3/lib/python3.6/site-packages/bs4/__init__.py:282: UserWarning: \"http://www.archive.org/details/LovefromaStranger\"\" looks like a URL. Beautiful Soup is not an HTTP client. You should probably use an HTTP client like requests to get the document behind the URL, and feed that document to Beautiful Soup.\n",
      "  ' that document to Beautiful Soup.' % decoded_markup\n",
      "/Users/ywu/miniconda3/lib/python3.6/site-packages/bs4/__init__.py:282: UserWarning: \"http://www.loosechangeguide.com/LooseChangeGuide.html\"\" looks like a URL. Beautiful Soup is not an HTTP client. You should probably use an HTTP client like requests to get the document behind the URL, and feed that document to Beautiful Soup.\n",
      "  ' that document to Beautiful Soup.' % decoded_markup\n",
      "/Users/ywu/miniconda3/lib/python3.6/site-packages/bs4/__init__.py:282: UserWarning: \"http://www.msnbc.msn.com/id/4972055/site/newsweek/\"\" looks like a URL. Beautiful Soup is not an HTTP client. You should probably use an HTTP client like requests to get the document behind the URL, and feed that document to Beautiful Soup.\n",
      "  ' that document to Beautiful Soup.' % decoded_markup\n",
      "/Users/ywu/miniconda3/lib/python3.6/site-packages/bs4/__init__.py:219: UserWarning: \"b'..'\" looks like a filename, not markup. You shouldprobably open this file and pass the filehandle intoBeautiful Soup.\n",
      "  'Beautiful Soup.' % markup)\n",
      "/Users/ywu/miniconda3/lib/python3.6/site-packages/bs4/__init__.py:282: UserWarning: \"http://www.youtube.com/watch?v=a0KSqelmgN8\"\" looks like a URL. Beautiful Soup is not an HTTP client. You should probably use an HTTP client like requests to get the document behind the URL, and feed that document to Beautiful Soup.\n",
      "  ' that document to Beautiful Soup.' % decoded_markup\n",
      "/Users/ywu/miniconda3/lib/python3.6/site-packages/bs4/__init__.py:282: UserWarning: \"http://jake-weird.blogspot.com/2007/08/beneath.html\"\" looks like a URL. Beautiful Soup is not an HTTP client. You should probably use an HTTP client like requests to get the document behind the URL, and feed that document to Beautiful Soup.\n",
      "  ' that document to Beautiful Soup.' % decoded_markup\n"
     ]
    }
   ],
   "source": [
    "sentences = []  # Initialize an empty list of sentences\n",
    "\n",
    "print(\"Parsing sentences from training set\")\n",
    "for review in train[\"review\"]:\n",
    "    sentences += review_to_sentences(review, tokenizer)\n",
    "\n",
    "print(\"Parsing sentences from unlabeled set\")\n",
    "for review in unlabeled_train[\"review\"]:\n",
    "    sentences += review_to_sentences(review, tokenizer)"
   ]
  },
  {
   "cell_type": "code",
   "execution_count": null,
   "metadata": {
    "collapsed": true,
    "deletable": true,
    "editable": true
   },
   "outputs": [],
   "source": [
    "# # Import the built-in logging module and configure it so that Word2Vec \n",
    "# # creates nice output messages\n",
    "# import logging\n",
    "# logging.basicConfig(format='%(asctime)s : %(levelname)s : %(message)s', level=logging.INFO)"
   ]
  },
  {
   "cell_type": "code",
   "execution_count": 5,
   "metadata": {
    "collapsed": false,
    "deletable": true,
    "editable": true
   },
   "outputs": [
    {
     "name": "stdout",
     "output_type": "stream",
     "text": [
      "Training model...\n"
     ]
    }
   ],
   "source": [
    "# Set values for various parameters\n",
    "num_features = 100    # Word vector dimensionality\n",
    "min_word_count = 40   # Minimum word count\n",
    "num_workers = 4       # Number of threads to run in parallel\n",
    "context = 5          # Context window size\n",
    "downsampling = 1e-3   # Downsample setting for frequent words\n",
    "\n",
    "# Initialize and train the model (this will take some time)\n",
    "from gensim.models import word2vec\n",
    "print(\"Training model...\")\n",
    "model_myself = word2vec.Word2Vec(sentences, workers=num_workers, size=num_features, \n",
    "                                 min_count = min_word_count, window = context, sample = downsampling)"
   ]
  },
  {
   "cell_type": "code",
   "execution_count": 6,
   "metadata": {
    "collapsed": false,
    "deletable": true,
    "editable": true,
    "scrolled": true
   },
   "outputs": [],
   "source": [
    "# If you don't plan to train the model any further, calling \n",
    "# init_sims will make the model much more memory-efficient.\n",
    "model_myself.init_sims(replace=True)\n",
    "\n",
    "# It can be helpful to create a meaningful model name and \n",
    "# save the model for later use. You can load it later using Word2Vec.load()\n",
    "model_name = \"100features_40minwords_5context\"\n",
    "model_myself.save(model_name)"
   ]
  },
  {
   "cell_type": "code",
   "execution_count": 7,
   "metadata": {
    "collapsed": true,
    "deletable": true,
    "editable": true
   },
   "outputs": [],
   "source": [
    "from gensim.models import Word2Vec, KeyedVectors"
   ]
  },
  {
   "cell_type": "code",
   "execution_count": 5,
   "metadata": {
    "collapsed": true,
    "deletable": true,
    "editable": true
   },
   "outputs": [],
   "source": [
    "# model_myself = Word2Vec.load(\"100features_40minwords_5context\")"
   ]
  },
  {
   "cell_type": "code",
   "execution_count": 8,
   "metadata": {
    "collapsed": true,
    "deletable": true,
    "editable": true
   },
   "outputs": [],
   "source": [
    "z1 = model_myself.wv.syn0"
   ]
  },
  {
   "cell_type": "code",
   "execution_count": 9,
   "metadata": {
    "collapsed": false,
    "deletable": true,
    "editable": true
   },
   "outputs": [],
   "source": [
    "word_list_z1 = model_myself.wv.index2word"
   ]
  },
  {
   "cell_type": "markdown",
   "metadata": {
    "deletable": true,
    "editable": true
   },
   "source": [
    "### Part b - Load Google's vector representation"
   ]
  },
  {
   "cell_type": "code",
   "execution_count": 12,
   "metadata": {
    "collapsed": false,
    "deletable": true,
    "editable": true
   },
   "outputs": [],
   "source": [
    "model_google = KeyedVectors.load_word2vec_format('GoogleNews-vectors-negative300.bin', binary=True)"
   ]
  },
  {
   "cell_type": "code",
   "execution_count": 13,
   "metadata": {
    "collapsed": true,
    "deletable": true,
    "editable": true
   },
   "outputs": [],
   "source": [
    "word_list_z2 = model_google.index2word"
   ]
  },
  {
   "cell_type": "code",
   "execution_count": 14,
   "metadata": {
    "collapsed": false,
    "deletable": true,
    "editable": true
   },
   "outputs": [
    {
     "name": "stdout",
     "output_type": "stream",
     "text": [
      "Time taken for intersection:  166.90646123886108 seconds.\n"
     ]
    }
   ],
   "source": [
    "import time\n",
    "start = time.time()\n",
    "\n",
    "word_list_z2 = [z for z in word_list_z1 if z in word_list_z2]\n",
    "\n",
    "end = time.time()\n",
    "elapsed = end - start\n",
    "print(\"Time taken for intersection: \", elapsed, \"seconds.\")"
   ]
  },
  {
   "cell_type": "code",
   "execution_count": 15,
   "metadata": {
    "collapsed": false,
    "deletable": true,
    "editable": true
   },
   "outputs": [],
   "source": [
    "# Filter the Google pretrained word2vec model\n",
    "z2 = np.zeros([len(word_list_z2), 300], dtype=\"float32\")\n",
    "\n",
    "for i, word in enumerate(word_list_z2):\n",
    "    z2[i, :] = model_google[word]"
   ]
  },
  {
   "cell_type": "markdown",
   "metadata": {
    "deletable": true,
    "editable": true
   },
   "source": [
    "### Part c - K-means clustering"
   ]
  },
  {
   "cell_type": "code",
   "execution_count": 18,
   "metadata": {
    "collapsed": true,
    "deletable": true,
    "editable": true
   },
   "outputs": [],
   "source": [
    "from sklearn.cluster import KMeans\n",
    "\n",
    "# Set \"k\" (num_clusters) to be 10\n",
    "num_clusters = 10\n",
    "\n",
    "# Initalize a k-means object\n",
    "kmeans_clustering = KMeans(n_clusters = num_clusters)"
   ]
  },
  {
   "cell_type": "markdown",
   "metadata": {
    "deletable": true,
    "editable": true
   },
   "source": [
    "K-means for Z1"
   ]
  },
  {
   "cell_type": "code",
   "execution_count": 19,
   "metadata": {
    "collapsed": false,
    "deletable": true,
    "editable": true
   },
   "outputs": [
    {
     "name": "stdout",
     "output_type": "stream",
     "text": [
      "Time taken for K Means clustering:  3.962545156478882 seconds.\n"
     ]
    }
   ],
   "source": [
    "start = time.time() # Start time\n",
    "\n",
    "# Set \"k\" (num_clusters) to be 10\n",
    "num_clusters = 10\n",
    "\n",
    "# Use k-means to extract centroids\n",
    "idx_z1 = kmeans_clustering.fit_predict(z1)\n",
    "\n",
    "# Get the end time and print how long the process took\n",
    "end = time.time()\n",
    "elapsed = end - start\n",
    "print(\"Time taken for K Means clustering: \", elapsed, \"seconds.\")"
   ]
  },
  {
   "cell_type": "code",
   "execution_count": 20,
   "metadata": {
    "collapsed": false,
    "deletable": true,
    "editable": true
   },
   "outputs": [],
   "source": [
    "# Create a Word / Index dictionary, mapping each vocabulary word to a cluster number \n",
    "word_centroid_map_z1 = dict(zip(word_list_z1, idx_z1))"
   ]
  },
  {
   "cell_type": "code",
   "execution_count": 21,
   "metadata": {
    "collapsed": false,
    "deletable": true,
    "editable": true
   },
   "outputs": [
    {
     "name": "stdout",
     "output_type": "stream",
     "text": [
      "\n",
      "Cluster 0\n",
      "['s', 'does', 'makes', 'seems', 'gets', 'played', 'found', 'trying', 'goes', 'comes', 'shows', 'plays', 'takes', 'left', 'used', 'given', 'playing', 'doing', 'gives', 'lost', 'written']\n",
      "\n",
      "Cluster 1\n",
      "['his', 'who', 'her', 'man', 'young', 'girl', 'woman', 'wife', 'himself', 'father', 'mother', 'boy', 'friend', 'son', 'evil', 'killer', 'child', 'daughter', 'hero', 'husband', 'brother']\n",
      "\n",
      "Cluster 2\n",
      "['character', 'life', 'world', 'own', 'family', 'death', 'human', 'lives', 'self', 'violence', 'lack', 'power', 'relationship', 'reality', 'problems', 'events', 'ways', 'crime', 'theme', 'tale', 'form']\n",
      "\n",
      "Cluster 3\n",
      "['by', 'american', 'star', 'black', 'classic', 'early', 'directed', 'late', 'writer', 'including', 'novel', 'modern', 'british', 'king', 'french', 'general', 'e', 'among', 'th', 'de', 'famous']\n",
      "\n",
      "Cluster 4\n",
      "['with', 'house', 'dead', 'face', 'head', 'white', 'run', 'hand', 'etc', 'car', 'fight', 'blood', 'running', 'room', 'body', 'eye', 'red', 'space', 'killing', 'dog', 'monster']\n",
      "\n",
      "Cluster 5\n",
      "['funny', 'both', 'between', 'interesting', 'especially', 'excellent', 'beautiful', 'nice', 'poor', 'boring', 'full', 'style', 'wonderful', 'often', 'dialogue', 'perfect', 'entertaining', 'drama', 'direction', 'dark', 'despite']\n",
      "\n",
      "Cluster 6\n",
      "['the', 'and', 'a', 'of', 'to', 'is', 'it', 'in', 'i', 'this', 'that', 'was', 'as', 'for', 'movie', 'but', 'film', 'you', 't', 'on', 'not']\n",
      "\n",
      "Cluster 7\n",
      "['their', 'our', 'war', 'men', 'women', 'against', 'town', 'city', 'group', 'girls', 'police', 'murder', 'living', 'order', 'middle', 'country', 'local', 'york', 'team', 'america', 'eventually']\n",
      "\n",
      "Cluster 8\n",
      "['have', 'be', 'see', 'get', 'do', 'make', 'think', 'watch', 'know', 'say', 'go', 'find', 'want', 'take', 'give', 'come', 'believe', 'put', 'play', 'seem', 'help']\n",
      "\n",
      "Cluster 9\n",
      "['john', 'mr', 'michael', 'david', 'robert', 'james', 'o', 'jack', 'george', 'richard', 'tom', 'lee', 'paul', 'peter', 'dr', 'joe', 'bill', 'mark', 'william', 'harry', 'co']\n"
     ]
    }
   ],
   "source": [
    "# For the first 10 clusters\n",
    "for cluster in range(0,10):\n",
    "    \n",
    "    # Print the cluster number  \n",
    "    print(\"\\nCluster %d\" % cluster)\n",
    "\n",
    "    # Find all of the words for that cluster number, and print them out\n",
    "    words = []\n",
    "    count = 0\n",
    "    for key, value in word_centroid_map_z1.items():\n",
    "        if value == cluster:\n",
    "            words.append(key)\n",
    "            count += 1\n",
    "        if count > 20:\n",
    "            break\n",
    "    print(words)"
   ]
  },
  {
   "cell_type": "markdown",
   "metadata": {
    "deletable": true,
    "editable": true
   },
   "source": [
    "K-means for Z2"
   ]
  },
  {
   "cell_type": "code",
   "execution_count": 22,
   "metadata": {
    "collapsed": false,
    "deletable": true,
    "editable": true
   },
   "outputs": [
    {
     "name": "stdout",
     "output_type": "stream",
     "text": [
      "Time taken for K Means clustering:  13.321490049362183 seconds.\n"
     ]
    }
   ],
   "source": [
    "start = time.time() # Start time\n",
    "\n",
    "# Use k-means to extract centroids\n",
    "idx_z2 = kmeans_clustering.fit_predict(z2)\n",
    "\n",
    "# Get the end time and print how long the process took\n",
    "end = time.time()\n",
    "elapsed = end - start\n",
    "print(\"Time taken for K Means clustering: \", elapsed, \"seconds.\")"
   ]
  },
  {
   "cell_type": "code",
   "execution_count": 23,
   "metadata": {
    "collapsed": true,
    "deletable": true,
    "editable": true
   },
   "outputs": [],
   "source": [
    "# Create a Word / Index dictionary, mapping each vocabulary word to\n",
    "# a cluster number \n",
    "word_centroid_map_z2 = dict(zip(word_list_z2, idx_z2))"
   ]
  },
  {
   "cell_type": "code",
   "execution_count": 24,
   "metadata": {
    "collapsed": false,
    "deletable": true,
    "editable": true
   },
   "outputs": [
    {
     "name": "stdout",
     "output_type": "stream",
     "text": [
      "\n",
      "Cluster 0\n",
      "['her', 'she', 'people', 'him', 'man', 'scene', 'old', 'young', 'family', 'girl', 'woman', 'someone', 'war', 'wife', 'himself', 'death', 'house', 'father', 'men', 'dead', 'women']\n",
      "\n",
      "Cluster 1\n",
      "['the', 'it', 'in', 'this', 'that', 's', 'was', 'as', 'with', 'for', 'but', 'you', 'on', 'not', 'he', 'are', 'have', 'be', 'one', 'all', 'at']\n",
      "\n",
      "Cluster 2\n",
      "['his', 'just', 'when', 'my', 'get', 'after', 'watch', 'never', 'little', 'off', 'go', 'back', 'watching', 'thing', 'didn', 'going', 'again', 'cast', 'down', 'pretty', 'take']\n",
      "\n",
      "Cluster 3\n",
      "['screen', 'black', 'camera', 'piece', 'white', 'stuff', 'blood', 'eyes', 'room', 'body', 'jack', 'earth', 'eye', 'red', 'dog', 'rock', 'box', 'air', 'baby', 'water', 'cold']\n",
      "\n",
      "Cluster 4\n",
      "['good', 'bad', 'too', 'nothing', 'interesting', 'worst', 'seem', 'poor', 'boring', 'wrong', 'stupid', 'awful', 'terrible', 'often', 'sort', 'worse', 'unfortunately', 'totally', 'horrible', 'amazing', 'decent']\n",
      "\n",
      "Cluster 5\n",
      "['is', 'does', 'doesn', 'makes', 'seems', 'isn', 'gets', 'goes', 'comes', 'looks', 'takes', 'gives', 'becomes', 'wants', 'tries', 'starts', 'turns', 'works', 'happens', 'ends', 'finds']\n",
      "\n",
      "Cluster 6\n",
      "['movie', 'film', 'story', 'movies', 'characters', 'character', 'films', 'plot', 'scenes', 'actors', 'funny', 'horror', 'comedy', 'script', 'music', 'fun', 'book', 'audience', 'beautiful', 'performances', 'classic']\n",
      "\n",
      "Cluster 7\n",
      "['i', 't', 've', 'm', 'd', 'll', 'tv', 'american', 'dvd', 'john', 'hollywood', 'oh', 'b', 'mr', 'etc', 'michael', 'wouldn', 'david', 'ok', 'please', 'robert']\n",
      "\n",
      "Cluster 8\n",
      "['don', 'guy', 'actor', 'stars', 'evil', 'killer', 'kid', 'hero', 'god', 'hell', 'crap', 'jokes', 'king', 'bunch', 'famous', 'cop', 'monster', 'villain', 'zombie', 'creepy', 'joke']\n",
      "\n",
      "Cluster 9\n",
      "['me', 'love', 'life', 'something', 'things', 'sense', 'true', 'mind', 'truly', 'wonderful', 'dialogue', 'human', 'hope', 'loved', 'history', 'heart', 'self', 'thinking', 'myself', 'feeling', 'moment']\n"
     ]
    }
   ],
   "source": [
    "# For the first 10 clusters\n",
    "for cluster in range(0,10):\n",
    "    \n",
    "    # Print the cluster number  \n",
    "    print(\"\\nCluster %d\" % cluster)\n",
    "\n",
    "    # Find all of the words for that cluster number, and print them out\n",
    "    words = []\n",
    "    count = 0\n",
    "    for key, value in word_centroid_map_z2.items():\n",
    "        if value == cluster:\n",
    "            words.append(key)\n",
    "            count += 1\n",
    "        if count > 20:\n",
    "            break\n",
    "    print(words)"
   ]
  },
  {
   "cell_type": "markdown",
   "metadata": {
    "deletable": true,
    "editable": true
   },
   "source": [
    "### Part d - Featurize the training and test reviews"
   ]
  },
  {
   "cell_type": "code",
   "execution_count": 25,
   "metadata": {
    "collapsed": false,
    "deletable": true,
    "editable": true
   },
   "outputs": [
    {
     "name": "stderr",
     "output_type": "stream",
     "text": [
      "/Users/ywu/miniconda3/lib/python3.6/site-packages/bs4/__init__.py:181: UserWarning: No parser was explicitly specified, so I'm using the best available HTML parser for this system (\"html5lib\"). This usually isn't a problem, but if you run this code on another system, or in a different virtual environment, it may use a different parser and behave differently.\n",
      "\n",
      "The code that caused this warning is on line 193 of the file /Users/ywu/miniconda3/lib/python3.6/runpy.py. To get rid of this warning, change code that looks like this:\n",
      "\n",
      " BeautifulSoup([your markup])\n",
      "\n",
      "to this:\n",
      "\n",
      " BeautifulSoup([your markup], \"html5lib\")\n",
      "\n",
      "  markup_type=markup_type))\n"
     ]
    }
   ],
   "source": [
    "clean_train_reviews = []\n",
    "for review in train[\"review\"]:\n",
    "    clean_train_reviews.append(review_to_wordlist(review, remove_stopwords=True))\n",
    "    \n",
    "clean_test_reviews = []\n",
    "for review in test[\"review\"]:\n",
    "    clean_test_reviews.append(review_to_wordlist(review, remove_stopwords=True))"
   ]
  },
  {
   "cell_type": "code",
   "execution_count": 26,
   "metadata": {
    "collapsed": true,
    "deletable": true,
    "editable": true
   },
   "outputs": [],
   "source": [
    "def create_bag_of_centroids(wordlist, word_centroid_map):\n",
    "    #\n",
    "    # The number of clusters is equal to the highest cluster index\n",
    "    # in the word / centroid map\n",
    "    num_centroids = max(word_centroid_map.values()) + 1\n",
    "    #\n",
    "    # Pre-allocate the bag of centroids vector (for speed)\n",
    "    bag_of_centroids = np.zeros( num_centroids, dtype=\"float32\")\n",
    "    #\n",
    "    # Loop over the words in the review. If the word is in the vocabulary,\n",
    "    # find which cluster it belongs to, and increment that cluster count \n",
    "    # by one\n",
    "    for word in wordlist:\n",
    "        if word in word_centroid_map:\n",
    "            index = word_centroid_map[word]\n",
    "            bag_of_centroids[index] += 1\n",
    "    #\n",
    "    # Return the \"bag of centroids\"\n",
    "    return bag_of_centroids"
   ]
  },
  {
   "cell_type": "code",
   "execution_count": 27,
   "metadata": {
    "collapsed": false,
    "deletable": true,
    "editable": true
   },
   "outputs": [],
   "source": [
    "# Pre-allocate an array for the training set bags of centroids (for speed)\n",
    "x1_train = np.zeros((train[\"review\"].size, num_clusters), dtype=\"float32\")\n",
    "x2_train = np.zeros((train[\"review\"].size, num_clusters), dtype=\"float32\")\n",
    "\n",
    "# Transform the training set reviews into bags of centroids\n",
    "counter = 0\n",
    "for review in clean_train_reviews:\n",
    "    x1_train[counter] = create_bag_of_centroids(review, word_centroid_map_z1)\n",
    "    x2_train[counter] = create_bag_of_centroids(review, word_centroid_map_z2)\n",
    "    counter += 1\n",
    "\n",
    "# Repeat for test reviews \n",
    "x1_test = np.zeros((test[\"review\"].size, num_clusters), dtype=\"float32\")\n",
    "x2_test = np.zeros((test[\"review\"].size, num_clusters), dtype=\"float32\")\n",
    "\n",
    "counter = 0\n",
    "for review in clean_test_reviews:\n",
    "    x1_test[counter] = create_bag_of_centroids(review, word_centroid_map_z1)\n",
    "    x2_test[counter] = create_bag_of_centroids(review, word_centroid_map_z2)\n",
    "    counter += 1"
   ]
  },
  {
   "cell_type": "code",
   "execution_count": 28,
   "metadata": {
    "collapsed": true,
    "deletable": true,
    "editable": true
   },
   "outputs": [],
   "source": [
    "np.save('x1_train.npy', x1_train)\n",
    "np.save('x2_train.npy', x2_train)\n",
    "np.save('x1_test.npy', x1_test)\n",
    "np.save('x2_test.npy', x2_test)"
   ]
  },
  {
   "cell_type": "markdown",
   "metadata": {
    "deletable": true,
    "editable": true
   },
   "source": [
    "## 2. Topic Modeling"
   ]
  },
  {
   "cell_type": "code",
   "execution_count": 29,
   "metadata": {
    "collapsed": true,
    "deletable": true,
    "editable": true
   },
   "outputs": [],
   "source": [
    "from gensim import corpora, models"
   ]
  },
  {
   "cell_type": "code",
   "execution_count": 30,
   "metadata": {
    "collapsed": false,
    "deletable": true,
    "editable": true
   },
   "outputs": [],
   "source": [
    "# Create the corpus\n",
    "id2word = corpora.Dictionary(clean_train_reviews)\n",
    "train_corpus = [id2word.doc2bow(text) for text in clean_train_reviews]\n",
    "test_corpus = [id2word.doc2bow(text) for text in clean_test_reviews]"
   ]
  },
  {
   "cell_type": "markdown",
   "metadata": {
    "deletable": true,
    "editable": true
   },
   "source": [
    "### Part a - Number of topics = 10"
   ]
  },
  {
   "cell_type": "code",
   "execution_count": 31,
   "metadata": {
    "collapsed": false,
    "deletable": true,
    "editable": true
   },
   "outputs": [],
   "source": [
    "num_topics = 10\n",
    "lda_10 = models.ldamodel.LdaModel(corpus=train_corpus, id2word=id2word, num_topics=num_topics)"
   ]
  },
  {
   "cell_type": "code",
   "execution_count": 32,
   "metadata": {
    "collapsed": false,
    "deletable": true,
    "editable": true
   },
   "outputs": [],
   "source": [
    "x3_train = np.zeros([len(clean_train_reviews), num_topics], dtype=\"float32\")\n",
    "x3_test = np.zeros([len(clean_test_reviews), num_topics], dtype=\"float32\")"
   ]
  },
  {
   "cell_type": "code",
   "execution_count": 33,
   "metadata": {
    "collapsed": false,
    "deletable": true,
    "editable": true
   },
   "outputs": [],
   "source": [
    "lda_train_10 = lda_10[train_corpus]\n",
    "for i, elm in enumerate(lda_train_10):\n",
    "    for key, value in elm:\n",
    "        x3_train[i, key] = value"
   ]
  },
  {
   "cell_type": "code",
   "execution_count": 34,
   "metadata": {
    "collapsed": true,
    "deletable": true,
    "editable": true
   },
   "outputs": [],
   "source": [
    "lda_test_10 = lda_10[test_corpus]\n",
    "for i, elm in enumerate(lda_test_10):\n",
    "    for key, value in elm:\n",
    "        x3_test[i, key] = value"
   ]
  },
  {
   "cell_type": "markdown",
   "metadata": {
    "deletable": true,
    "editable": true
   },
   "source": [
    "### Part b - Number of topics = 20"
   ]
  },
  {
   "cell_type": "code",
   "execution_count": 35,
   "metadata": {
    "collapsed": true,
    "deletable": true,
    "editable": true
   },
   "outputs": [],
   "source": [
    "num_topics = 20\n",
    "lda_20 = models.ldamodel.LdaModel(corpus=train_corpus, id2word=id2word, num_topics=num_topics)"
   ]
  },
  {
   "cell_type": "code",
   "execution_count": 36,
   "metadata": {
    "collapsed": true,
    "deletable": true,
    "editable": true
   },
   "outputs": [],
   "source": [
    "x4_train = np.zeros([len(clean_train_reviews), num_topics], dtype=\"float32\")\n",
    "x4_test = np.zeros([len(clean_test_reviews), num_topics], dtype=\"float32\")"
   ]
  },
  {
   "cell_type": "code",
   "execution_count": 37,
   "metadata": {
    "collapsed": true,
    "deletable": true,
    "editable": true
   },
   "outputs": [],
   "source": [
    "lda_train_20 = lda_20[train_corpus]\n",
    "for i, elm in enumerate(lda_train_20):\n",
    "    for key, value in elm:\n",
    "        x4_train[i, key] = value"
   ]
  },
  {
   "cell_type": "code",
   "execution_count": 38,
   "metadata": {
    "collapsed": true,
    "deletable": true,
    "editable": true
   },
   "outputs": [],
   "source": [
    "lda_test_20 = lda_20[test_corpus]\n",
    "for i, elm in enumerate(lda_test_20):\n",
    "    for key, value in elm:\n",
    "        x4_test[i, key] = value"
   ]
  },
  {
   "cell_type": "code",
   "execution_count": 39,
   "metadata": {
    "collapsed": true,
    "deletable": true,
    "editable": true
   },
   "outputs": [],
   "source": [
    "np.save('x3_train.npy', x3_train)\n",
    "np.save('x4_train.npy', x4_train)\n",
    "np.save('x3_test.npy', x3_test)\n",
    "np.save('x4_test.npy', x4_test)"
   ]
  },
  {
   "cell_type": "markdown",
   "metadata": {
    "deletable": true,
    "editable": true
   },
   "source": [
    "### Part c - Print top 10 words with highest probabilities for each topic"
   ]
  },
  {
   "cell_type": "code",
   "execution_count": 40,
   "metadata": {
    "collapsed": false,
    "deletable": true,
    "editable": true,
    "scrolled": false
   },
   "outputs": [
    {
     "data": {
      "text/plain": [
       "[(0,\n",
       "  '0.007*\"jane\" + 0.006*\"film\" + 0.006*\"version\" + 0.005*\"like\" + 0.004*\"music\" + 0.004*\"tarzan\" + 0.004*\"book\" + 0.003*\"novel\" + 0.003*\"well\" + 0.003*\"much\"'),\n",
       " (1,\n",
       "  '0.007*\"one\" + 0.006*\"film\" + 0.004*\"like\" + 0.004*\"man\" + 0.003*\"time\" + 0.003*\"also\" + 0.003*\"two\" + 0.003*\"story\" + 0.003*\"back\" + 0.003*\"christmas\"'),\n",
       " (2,\n",
       "  '0.008*\"show\" + 0.006*\"like\" + 0.006*\"film\" + 0.005*\"one\" + 0.004*\"get\" + 0.003*\"episode\" + 0.003*\"plot\" + 0.003*\"good\" + 0.003*\"even\" + 0.003*\"movie\"'),\n",
       " (3,\n",
       "  '0.026*\"film\" + 0.011*\"one\" + 0.007*\"story\" + 0.005*\"well\" + 0.005*\"time\" + 0.005*\"great\" + 0.004*\"see\" + 0.004*\"films\" + 0.004*\"life\" + 0.004*\"also\"'),\n",
       " (4,\n",
       "  '0.009*\"one\" + 0.008*\"movie\" + 0.005*\"like\" + 0.005*\"film\" + 0.004*\"even\" + 0.003*\"comedy\" + 0.003*\"get\" + 0.003*\"good\" + 0.003*\"much\" + 0.003*\"would\"'),\n",
       " (5,\n",
       "  '0.015*\"film\" + 0.005*\"one\" + 0.004*\"even\" + 0.004*\"like\" + 0.004*\"story\" + 0.004*\"time\" + 0.003*\"war\" + 0.003*\"would\" + 0.003*\"two\" + 0.003*\"well\"'),\n",
       " (6,\n",
       "  '0.005*\"one\" + 0.005*\"also\" + 0.005*\"film\" + 0.004*\"great\" + 0.004*\"man\" + 0.004*\"john\" + 0.003*\"young\" + 0.003*\"good\" + 0.003*\"family\" + 0.003*\"best\"'),\n",
       " (7,\n",
       "  '0.037*\"movie\" + 0.012*\"like\" + 0.012*\"one\" + 0.011*\"film\" + 0.010*\"good\" + 0.008*\"really\" + 0.008*\"bad\" + 0.007*\"even\" + 0.007*\"would\" + 0.007*\"see\"'),\n",
       " (8,\n",
       "  '0.007*\"film\" + 0.006*\"one\" + 0.003*\"man\" + 0.003*\"two\" + 0.003*\"role\" + 0.003*\"well\" + 0.003*\"like\" + 0.003*\"time\" + 0.003*\"best\" + 0.002*\"story\"'),\n",
       " (9,\n",
       "  '0.013*\"movie\" + 0.012*\"film\" + 0.007*\"one\" + 0.005*\"story\" + 0.005*\"well\" + 0.005*\"man\" + 0.005*\"people\" + 0.004*\"also\" + 0.004*\"horror\" + 0.003*\"like\"')]"
      ]
     },
     "execution_count": 40,
     "metadata": {},
     "output_type": "execute_result"
    }
   ],
   "source": [
    "lda_10.print_topics(num_topics=10, num_words=10)"
   ]
  },
  {
   "cell_type": "code",
   "execution_count": 41,
   "metadata": {
    "collapsed": false,
    "deletable": true,
    "editable": true
   },
   "outputs": [
    {
     "data": {
      "text/plain": [
       "[(0,\n",
       "  '0.007*\"one\" + 0.005*\"film\" + 0.005*\"tarzan\" + 0.005*\"king\" + 0.004*\"war\" + 0.004*\"man\" + 0.004*\"steve\" + 0.004*\"new\" + 0.003*\"well\" + 0.003*\"two\"'),\n",
       " (1,\n",
       "  '0.008*\"one\" + 0.005*\"film\" + 0.005*\"jack\" + 0.004*\"man\" + 0.004*\"hotel\" + 0.003*\"even\" + 0.003*\"mary\" + 0.003*\"killer\" + 0.003*\"like\" + 0.003*\"cage\"'),\n",
       " (2,\n",
       "  '0.073*\"movie\" + 0.014*\"one\" + 0.013*\"good\" + 0.012*\"like\" + 0.012*\"movies\" + 0.011*\"really\" + 0.009*\"see\" + 0.008*\"watch\" + 0.008*\"would\" + 0.008*\"bad\"'),\n",
       " (3,\n",
       "  '0.026*\"film\" + 0.011*\"one\" + 0.009*\"movie\" + 0.008*\"story\" + 0.005*\"well\" + 0.005*\"life\" + 0.005*\"like\" + 0.005*\"great\" + 0.005*\"also\" + 0.005*\"see\"'),\n",
       " (4,\n",
       "  '0.030*\"film\" + 0.012*\"bad\" + 0.011*\"one\" + 0.011*\"like\" + 0.008*\"movie\" + 0.008*\"even\" + 0.007*\"acting\" + 0.006*\"good\" + 0.006*\"would\" + 0.005*\"worst\"'),\n",
       " (5,\n",
       "  '0.021*\"movie\" + 0.018*\"film\" + 0.009*\"one\" + 0.009*\"like\" + 0.008*\"good\" + 0.007*\"story\" + 0.006*\"much\" + 0.006*\"really\" + 0.006*\"even\" + 0.005*\"make\"'),\n",
       " (6,\n",
       "  '0.011*\"like\" + 0.008*\"one\" + 0.006*\"would\" + 0.005*\"film\" + 0.005*\"even\" + 0.005*\"people\" + 0.005*\"show\" + 0.004*\"get\" + 0.004*\"first\" + 0.004*\"time\"'),\n",
       " (7,\n",
       "  '0.034*\"show\" + 0.017*\"series\" + 0.010*\"episode\" + 0.009*\"season\" + 0.009*\"game\" + 0.007*\"episodes\" + 0.007*\"tv\" + 0.006*\"one\" + 0.006*\"shows\" + 0.005*\"time\"'),\n",
       " (8,\n",
       "  '0.007*\"one\" + 0.005*\"film\" + 0.004*\"well\" + 0.003*\"match\" + 0.003*\"like\" + 0.003*\"also\" + 0.003*\"cinderella\" + 0.003*\"good\" + 0.003*\"victoria\" + 0.003*\"love\"'),\n",
       " (9,\n",
       "  '0.008*\"film\" + 0.005*\"man\" + 0.005*\"one\" + 0.004*\"john\" + 0.004*\"great\" + 0.004*\"movie\" + 0.003*\"plays\" + 0.003*\"also\" + 0.003*\"story\" + 0.003*\"good\"'),\n",
       " (10,\n",
       "  '0.008*\"movie\" + 0.006*\"one\" + 0.005*\"film\" + 0.004*\"like\" + 0.004*\"man\" + 0.004*\"scene\" + 0.004*\"love\" + 0.003*\"even\" + 0.003*\"fu\" + 0.003*\"rape\"'),\n",
       " (11,\n",
       "  '0.009*\"book\" + 0.009*\"film\" + 0.007*\"star\" + 0.007*\"keaton\" + 0.006*\"one\" + 0.006*\"luke\" + 0.005*\"would\" + 0.004*\"version\" + 0.004*\"much\" + 0.004*\"wars\"'),\n",
       " (12,\n",
       "  '0.008*\"film\" + 0.006*\"movie\" + 0.006*\"time\" + 0.005*\"one\" + 0.004*\"like\" + 0.004*\"us\" + 0.003*\"well\" + 0.003*\"even\" + 0.003*\"would\" + 0.003*\"really\"'),\n",
       " (13,\n",
       "  '0.007*\"like\" + 0.007*\"allen\" + 0.006*\"movie\" + 0.006*\"one\" + 0.006*\"batman\" + 0.005*\"woody\" + 0.004*\"good\" + 0.004*\"character\" + 0.004*\"nancy\" + 0.004*\"characters\"'),\n",
       " (14,\n",
       "  '0.011*\"film\" + 0.008*\"musical\" + 0.007*\"best\" + 0.005*\"one\" + 0.005*\"dance\" + 0.005*\"kelly\" + 0.005*\"oscar\" + 0.004*\"love\" + 0.003*\"stage\" + 0.003*\"father\"'),\n",
       " (15,\n",
       "  '0.009*\"one\" + 0.008*\"film\" + 0.005*\"man\" + 0.005*\"horror\" + 0.004*\"good\" + 0.004*\"also\" + 0.003*\"scene\" + 0.003*\"doctor\" + 0.003*\"house\" + 0.003*\"like\"'),\n",
       " (16,\n",
       "  '0.017*\"film\" + 0.006*\"japanese\" + 0.004*\"story\" + 0.004*\"one\" + 0.004*\"life\" + 0.004*\"young\" + 0.003*\"adam\" + 0.003*\"gandhi\" + 0.003*\"like\" + 0.003*\"women\"'),\n",
       " (17,\n",
       "  '0.010*\"movie\" + 0.009*\"horror\" + 0.007*\"one\" + 0.005*\"jane\" + 0.005*\"black\" + 0.005*\"film\" + 0.005*\"version\" + 0.005*\"time\" + 0.005*\"see\" + 0.005*\"like\"'),\n",
       " (18,\n",
       "  '0.011*\"film\" + 0.006*\"movie\" + 0.006*\"original\" + 0.006*\"one\" + 0.006*\"much\" + 0.005*\"like\" + 0.005*\"animation\" + 0.005*\"cartoon\" + 0.005*\"even\" + 0.004*\"time\"'),\n",
       " (19,\n",
       "  '0.007*\"film\" + 0.006*\"one\" + 0.005*\"well\" + 0.003*\"movie\" + 0.003*\"time\" + 0.003*\"also\" + 0.003*\"love\" + 0.003*\"story\" + 0.003*\"two\" + 0.003*\"good\"')]"
      ]
     },
     "execution_count": 41,
     "metadata": {},
     "output_type": "execute_result"
    }
   ],
   "source": [
    "lda_20.print_topics(num_topics=20, num_words=10)"
   ]
  },
  {
   "cell_type": "markdown",
   "metadata": {
    "deletable": true,
    "editable": true
   },
   "source": [
    "## 3. Classification Experiment"
   ]
  },
  {
   "cell_type": "code",
   "execution_count": 42,
   "metadata": {
    "collapsed": true,
    "deletable": true,
    "editable": true
   },
   "outputs": [],
   "source": [
    "from sklearn.ensemble import RandomForestClassifier\n",
    "from sklearn.model_selection import train_test_split\n",
    "from sklearn.model_selection import cross_val_score\n",
    "from sklearn.metrics import roc_curve, auc, roc_auc_score"
   ]
  },
  {
   "cell_type": "code",
   "execution_count": 43,
   "metadata": {
    "collapsed": true,
    "deletable": true,
    "editable": true
   },
   "outputs": [],
   "source": [
    "y_train = train['sentiment'].as_matrix()"
   ]
  },
  {
   "cell_type": "markdown",
   "metadata": {
    "deletable": true,
    "editable": true
   },
   "source": [
    "### Part a - Train random forest"
   ]
  },
  {
   "cell_type": "code",
   "execution_count": 44,
   "metadata": {
    "collapsed": true,
    "deletable": true,
    "editable": true
   },
   "outputs": [],
   "source": [
    "def split(data, label):\n",
    "    X_train, X_test, y_train, y_test = train_test_split(data, label, test_size=0.2, random_state=0)\n",
    "    return X_train, X_test, y_train, y_test"
   ]
  },
  {
   "cell_type": "code",
   "execution_count": 45,
   "metadata": {
    "collapsed": true,
    "deletable": true,
    "editable": true
   },
   "outputs": [],
   "source": [
    "# Split dataset into training and test set\n",
    "x1_train_split, x1_test_split, y1_train_split, y1_test_split = split(x1_train, y_train)\n",
    "x2_train_split, x2_test_split, y2_train_split, y2_test_split = split(x2_train, y_train)\n",
    "x3_train_split, x3_test_split, y3_train_split, y3_test_split = split(x3_train, y_train)\n",
    "x4_train_split, x4_test_split, y4_train_split, y4_test_split = split(x4_train, y_train)"
   ]
  },
  {
   "cell_type": "code",
   "execution_count": 46,
   "metadata": {
    "collapsed": true,
    "deletable": true,
    "editable": true
   },
   "outputs": [],
   "source": [
    "n_tree = [50, 100, 150, 200, 300, 400, 500, 750, 1000]"
   ]
  },
  {
   "cell_type": "markdown",
   "metadata": {
    "deletable": true,
    "editable": true
   },
   "source": [
    "### Fit random forest for X1"
   ]
  },
  {
   "cell_type": "code",
   "execution_count": 47,
   "metadata": {
    "collapsed": false,
    "deletable": true,
    "editable": true
   },
   "outputs": [
    {
     "name": "stdout",
     "output_type": "stream",
     "text": [
      "Time taken for cross validation:  340.6162130832672 seconds.\n"
     ]
    }
   ],
   "source": [
    "start = time.time()\n",
    "\n",
    "result1 = []\n",
    "for n in n_tree:\n",
    "    clf1 = RandomForestClassifier(n_estimators = n)\n",
    "    scores1 = cross_val_score(clf1, x1_train_split, y1_train_split, cv=5)\n",
    "    result1.append(scores1.mean())\n",
    "\n",
    "end = time.time()\n",
    "elapsed = end - start\n",
    "print(\"Time taken for cross validation: \", elapsed, \"seconds.\")"
   ]
  },
  {
   "cell_type": "code",
   "execution_count": 48,
   "metadata": {
    "collapsed": false,
    "deletable": true,
    "editable": true,
    "scrolled": true
   },
   "outputs": [
    {
     "data": {
      "text/plain": [
       "[0.61114943038746439,\n",
       " 0.61600013064375803,\n",
       " 0.61559985568124098,\n",
       " 0.61839968083748009,\n",
       " 0.62015034337189645,\n",
       " 0.62045005593750346,\n",
       " 0.61845011832813235,\n",
       " 0.62005010591250653,\n",
       " 0.61804988078124257]"
      ]
     },
     "execution_count": 48,
     "metadata": {},
     "output_type": "execute_result"
    }
   ],
   "source": [
    "result1"
   ]
  },
  {
   "cell_type": "code",
   "execution_count": 49,
   "metadata": {
    "collapsed": true,
    "deletable": true,
    "editable": true
   },
   "outputs": [],
   "source": [
    "clf1 = RandomForestClassifier(n_estimators=400)\n",
    "clf1 = clf1.fit(x1_train_split, y1_train_split)\n",
    "y1_score = clf1.predict_proba(x1_test_split)\n",
    "auc1 = roc_auc_score(y1_test_split, y1_score[:, 1])"
   ]
  },
  {
   "cell_type": "code",
   "execution_count": 50,
   "metadata": {
    "collapsed": false,
    "deletable": true,
    "editable": true
   },
   "outputs": [
    {
     "data": {
      "text/plain": [
       "0.67695203159692785"
      ]
     },
     "execution_count": 50,
     "metadata": {},
     "output_type": "execute_result"
    }
   ],
   "source": [
    "auc1"
   ]
  },
  {
   "cell_type": "markdown",
   "metadata": {
    "deletable": true,
    "editable": true
   },
   "source": [
    "### Fit random forest for X2"
   ]
  },
  {
   "cell_type": "code",
   "execution_count": 51,
   "metadata": {
    "collapsed": false,
    "deletable": true,
    "editable": true
   },
   "outputs": [
    {
     "name": "stdout",
     "output_type": "stream",
     "text": [
      "Time taken for cross validation:  347.59569215774536 seconds.\n"
     ]
    }
   ],
   "source": [
    "start = time.time()\n",
    "\n",
    "result2 = []\n",
    "for n in n_tree:\n",
    "    clf2 = RandomForestClassifier(n_estimators = n)\n",
    "    scores2 = cross_val_score(clf2, x2_train_split, y2_train_split, cv=5)\n",
    "    result2.append(scores2.mean())\n",
    "\n",
    "end = time.time()\n",
    "elapsed = end - start\n",
    "print(\"Time taken for cross validation: \", elapsed, \"seconds.\")"
   ]
  },
  {
   "cell_type": "code",
   "execution_count": 52,
   "metadata": {
    "collapsed": false,
    "deletable": true,
    "editable": true,
    "scrolled": true
   },
   "outputs": [
    {
     "data": {
      "text/plain": [
       "[0.70710073525004602,\n",
       " 0.71030039785314991,\n",
       " 0.71285054802190939,\n",
       " 0.71140023540001462,\n",
       " 0.71260054799690908,\n",
       " 0.71314989801561857,\n",
       " 0.71410044810315287,\n",
       " 0.71435019810313738,\n",
       " 0.71430046060627872]"
      ]
     },
     "execution_count": 52,
     "metadata": {},
     "output_type": "execute_result"
    }
   ],
   "source": [
    "result2"
   ]
  },
  {
   "cell_type": "code",
   "execution_count": 53,
   "metadata": {
    "collapsed": false,
    "deletable": true,
    "editable": true
   },
   "outputs": [],
   "source": [
    "clf2 = RandomForestClassifier(n_estimators=750)\n",
    "clf2 = clf2.fit(x2_train_split, y2_train_split)\n",
    "y2_score = clf2.predict_proba(x2_test_split)\n",
    "auc2 = roc_auc_score(y2_test_split, y2_score[:, 1])"
   ]
  },
  {
   "cell_type": "code",
   "execution_count": 54,
   "metadata": {
    "collapsed": false,
    "deletable": true,
    "editable": true
   },
   "outputs": [
    {
     "data": {
      "text/plain": [
       "0.78548180001075596"
      ]
     },
     "execution_count": 54,
     "metadata": {},
     "output_type": "execute_result"
    }
   ],
   "source": [
    "auc2"
   ]
  },
  {
   "cell_type": "markdown",
   "metadata": {
    "deletable": true,
    "editable": true
   },
   "source": [
    "### Fit random forest for X3"
   ]
  },
  {
   "cell_type": "code",
   "execution_count": 55,
   "metadata": {
    "collapsed": false,
    "deletable": true,
    "editable": true
   },
   "outputs": [
    {
     "name": "stdout",
     "output_type": "stream",
     "text": [
      "Time taken for cross validation:  508.38200306892395 seconds.\n"
     ]
    }
   ],
   "source": [
    "start = time.time()\n",
    "\n",
    "result3 = []\n",
    "for n in n_tree:\n",
    "    clf3 = RandomForestClassifier(n_estimators = n)\n",
    "    scores3 = cross_val_score(clf3, x3_train_split, y3_train_split, cv=5)\n",
    "    result3.append(scores3.mean())\n",
    "\n",
    "end = time.time()\n",
    "elapsed = end - start\n",
    "print(\"Time taken for cross validation: \", elapsed, \"seconds.\")"
   ]
  },
  {
   "cell_type": "code",
   "execution_count": 56,
   "metadata": {
    "collapsed": false,
    "deletable": true,
    "editable": true,
    "scrolled": true
   },
   "outputs": [
    {
     "data": {
      "text/plain": [
       "[0.69475028477501777,\n",
       " 0.69775143490008973,\n",
       " 0.69905083500005216,\n",
       " 0.69880074745317178,\n",
       " 0.69990093501880835,\n",
       " 0.69820089744068103,\n",
       " 0.69850087247192949,\n",
       " 0.69745124735945296,\n",
       " 0.69955099752818739]"
      ]
     },
     "execution_count": 56,
     "metadata": {},
     "output_type": "execute_result"
    }
   ],
   "source": [
    "result3"
   ]
  },
  {
   "cell_type": "code",
   "execution_count": 57,
   "metadata": {
    "collapsed": true,
    "deletable": true,
    "editable": true
   },
   "outputs": [],
   "source": [
    "clf3 = RandomForestClassifier(n_estimators=500)\n",
    "clf3 = clf3.fit(x3_train_split, y3_train_split)\n",
    "y3_score = clf3.predict_proba(x3_test_split)\n",
    "auc3 = roc_auc_score(y3_test_split, y3_score[:, 1])"
   ]
  },
  {
   "cell_type": "code",
   "execution_count": 58,
   "metadata": {
    "collapsed": false,
    "deletable": true,
    "editable": true
   },
   "outputs": [
    {
     "data": {
      "text/plain": [
       "0.76935993684711934"
      ]
     },
     "execution_count": 58,
     "metadata": {},
     "output_type": "execute_result"
    }
   ],
   "source": [
    "auc3"
   ]
  },
  {
   "cell_type": "markdown",
   "metadata": {
    "deletable": true,
    "editable": true
   },
   "source": [
    "### Fit random forest for X4"
   ]
  },
  {
   "cell_type": "code",
   "execution_count": 59,
   "metadata": {
    "collapsed": false,
    "deletable": true,
    "editable": true
   },
   "outputs": [
    {
     "name": "stdout",
     "output_type": "stream",
     "text": [
      "Time taken for cross validation:  545.7423219680786 seconds.\n"
     ]
    }
   ],
   "source": [
    "start = time.time()\n",
    "\n",
    "result4 = []\n",
    "for n in n_tree:\n",
    "    clf4 = RandomForestClassifier(n_estimators = n)\n",
    "    scores4 = cross_val_score(clf4, x4_train_split, y4_train_split, cv=5)\n",
    "    result4.append(scores4.mean())\n",
    "\n",
    "end = time.time()\n",
    "elapsed = end - start\n",
    "print(\"Time taken for cross validation: \", elapsed, \"seconds.\")"
   ]
  },
  {
   "cell_type": "code",
   "execution_count": 60,
   "metadata": {
    "collapsed": false,
    "deletable": true,
    "editable": true
   },
   "outputs": [
    {
     "data": {
      "text/plain": [
       "[0.76170082550942664,\n",
       " 0.76230038802502431,\n",
       " 0.76225075051567193,\n",
       " 0.76370068809379288,\n",
       " 0.76545067567191727,\n",
       " 0.7637506256094142,\n",
       " 0.76350038806877429,\n",
       " 0.76400077564692359,\n",
       " 0.76500053813753366]"
      ]
     },
     "execution_count": 60,
     "metadata": {},
     "output_type": "execute_result"
    }
   ],
   "source": [
    "result4"
   ]
  },
  {
   "cell_type": "code",
   "execution_count": 61,
   "metadata": {
    "collapsed": true,
    "deletable": true,
    "editable": true
   },
   "outputs": [],
   "source": [
    "clf4 = RandomForestClassifier(n_estimators=1000)\n",
    "clf4 = clf4.fit(x4_train_split, y4_train_split)\n",
    "y4_score = clf4.predict_proba(x4_test_split)\n",
    "auc4 = roc_auc_score(y4_test_split, y4_score[:, 1])"
   ]
  },
  {
   "cell_type": "code",
   "execution_count": 62,
   "metadata": {
    "collapsed": false,
    "deletable": true,
    "editable": true
   },
   "outputs": [
    {
     "data": {
      "text/plain": [
       "0.84121346493171234"
      ]
     },
     "execution_count": 62,
     "metadata": {},
     "output_type": "execute_result"
    }
   ],
   "source": [
    "auc4"
   ]
  },
  {
   "cell_type": "markdown",
   "metadata": {
    "deletable": true,
    "editable": true
   },
   "source": [
    "### Plot the ROC curves"
   ]
  },
  {
   "cell_type": "code",
   "execution_count": 63,
   "metadata": {
    "collapsed": true,
    "deletable": true,
    "editable": true
   },
   "outputs": [],
   "source": [
    "import matplotlib.pyplot as plt\n",
    "# import seaborn as sns"
   ]
  },
  {
   "cell_type": "code",
   "execution_count": 64,
   "metadata": {
    "collapsed": false,
    "deletable": true,
    "editable": true
   },
   "outputs": [
    {
     "data": {
      "image/png": "[encoded data removed]",
      "text/plain": [
       "<matplotlib.figure.Figure at 0x294e4b668>"
      ]
     },
     "metadata": {},
     "output_type": "display_data"
    }
   ],
   "source": [
    "colors = ['blue', 'indigo', 'seagreen', 'darkorange']\n",
    "\n",
    "plt.figure(figsize=(12,10))\n",
    "fpr1, tpr1, _ = roc_curve(y1_test_split, y1_score[:, 1])\n",
    "fpr2, tpr2, _ = roc_curve(y2_test_split, y2_score[:, 1])\n",
    "fpr3, tpr3, _ = roc_curve(y3_test_split, y3_score[:, 1])\n",
    "fpr4, tpr4, _ = roc_curve(y4_test_split, y4_score[:, 1])\n",
    "plt.plot(fpr1, tpr1, lw=2, color=colors[0], label='ROC curve for X%d (area = %0.2f)' % (1, auc1))\n",
    "plt.plot(fpr2, tpr2, lw=2, color=colors[1], label='ROC curve for X%d (area = %0.2f)' % (2, auc2))\n",
    "plt.plot(fpr3, tpr3, lw=2, color=colors[2], label='ROC curve for X%d (area = %0.2f)' % (3, auc3))\n",
    "plt.plot(fpr4, tpr4, lw=2, color=colors[3], label='ROC curve for X%d (area = %0.2f)' % (4, auc4))\n",
    "plt.plot([0, 1], [0, 1], color='navy', lw=2, linestyle='--')\n",
    "plt.legend(loc=\"lower right\")\n",
    "plt.show()"
   ]
  },
  {
   "cell_type": "markdown",
   "metadata": {
    "deletable": true,
    "editable": true
   },
   "source": [
    "## Kaggle scores"
   ]
  },
  {
   "cell_type": "code",
   "execution_count": 65,
   "metadata": {
    "collapsed": true,
    "deletable": true,
    "editable": true
   },
   "outputs": [],
   "source": [
    "clf1 = RandomForestClassifier(n_estimators=400)\n",
    "clf2 = RandomForestClassifier(n_estimators=750)\n",
    "clf3 = RandomForestClassifier(n_estimators=500)\n",
    "clf4 = RandomForestClassifier(n_estimators=1000)"
   ]
  },
  {
   "cell_type": "code",
   "execution_count": 66,
   "metadata": {
    "collapsed": true,
    "deletable": true,
    "editable": true
   },
   "outputs": [],
   "source": [
    "y1_test = clf1.fit(x1_train, y_train).predict(x1_test)\n",
    "y2_test = clf2.fit(x2_train, y_train).predict(x2_test)\n",
    "y3_test = clf3.fit(x3_train, y_train).predict(x3_test)\n",
    "y4_test = clf4.fit(x4_train, y_train).predict(x4_test)"
   ]
  },
  {
   "cell_type": "code",
   "execution_count": 67,
   "metadata": {
    "collapsed": true,
    "deletable": true,
    "editable": true
   },
   "outputs": [],
   "source": [
    "output1 = pd.DataFrame(data={\"id\":test[\"id\"], \"sentiment\":y1_test})\n",
    "output1.to_csv(\"result1.csv\", index=False, quoting=3)\n",
    "\n",
    "output2 = pd.DataFrame(data={\"id\":test[\"id\"], \"sentiment\":y2_test})\n",
    "output2.to_csv(\"result2.csv\", index=False, quoting=3)\n",
    "\n",
    "output3 = pd.DataFrame(data={\"id\":test[\"id\"], \"sentiment\":y3_test})\n",
    "output3.to_csv(\"result3.csv\", index=False, quoting=3)\n",
    "\n",
    "output4 = pd.DataFrame(data={\"id\":test[\"id\"], \"sentiment\":y4_test})\n",
    "output4.to_csv(\"result4.csv\", index=False, quoting=3)"
   ]
  },
  {
   "cell_type": "markdown",
   "metadata": {
    "deletable": true,
    "editable": true
   },
   "source": [
    "For X1, Kaggle score: 0.62716\n",
    "\n",
    "For X2, Kaggle score: 0.71912\n",
    "\n",
    "For X3, Kaggle score: 0.68852\n",
    "\n",
    "For X4, Kaggle score: 0.76176\n",
    "\n",
    "![Kaggle Score](KaggleScore.png)"
   ]
  },
  {
   "cell_type": "markdown",
   "metadata": {
    "deletable": true,
    "editable": true
   },
   "source": [
    "Topic modeling is better than word2vec, especially for n_topics = 20. However, they all worse than the simple bag-of-words approach.\n",
    "\n",
    "Three way to improve efficiency of the classifier:\n",
    "- Grid search the best combination of parameters in random forest\n",
    "- Set more topics in LDA\n",
    "- Use tf-idf as term-weighting schemes"
   ]
  },
  {
   "cell_type": "code",
   "execution_count": null,
   "metadata": {
    "collapsed": true
   },
   "outputs": [],
   "source": []
  }
 ],
 "metadata": {
  "kernelspec": {
   "display_name": "Python 3",
   "language": "python",
   "name": "python3"
  },
  "language_info": {
   "codemirror_mode": {
    "name": "ipython",
    "version": 3
   },
   "file_extension": ".py",
   "mimetype": "text/x-python",
   "name": "python",
   "nbconvert_exporter": "python",
   "pygments_lexer": "ipython3",
   "version": "3.6.0"
  }
 },
 "nbformat": 4,
 "nbformat_minor": 2
}
