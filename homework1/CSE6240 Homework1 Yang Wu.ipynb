{
 "cells": [
  {
   "cell_type": "markdown",
   "metadata": {},
   "source": [
    "# CSE6240 Homework1 - Analyzing a Movie Review Dataset\n",
    "Name: Yang Wu\n",
    "\n",
    "GT username: ywu613\n",
    "\n",
    "Datasets come from Kaggle competition [Bag of Words Meets Bags of Popcorn](https://www.kaggle.com/c/word2vec-nlp-tutorial)"
   ]
  },
  {
   "cell_type": "markdown",
   "metadata": {},
   "source": [
    "## 0. Reading and cleaning the data"
   ]
  },
  {
   "cell_type": "code",
   "execution_count": 1,
   "metadata": {
    "collapsed": true
   },
   "outputs": [],
   "source": [
    "# the labeled training data\n",
    "import pandas as pd\n",
    "import numpy as np\n",
    "import scipy as sp\n",
    "train = pd.read_csv(\"labeledTrainData.tsv\", header=0, delimiter=\"\\t\", quoting=3)\n",
    "test = pd.read_csv(\"testData.tsv\", header=0, delimiter=\"\\t\", quoting=3)"
   ]
  },
  {
   "cell_type": "code",
   "execution_count": null,
   "metadata": {
    "collapsed": false
   },
   "outputs": [],
   "source": [
    "# First, install Beautiful Soup library\n",
    "# !pip install beautifulsoup4"
   ]
  },
  {
   "cell_type": "code",
   "execution_count": 2,
   "metadata": {
    "collapsed": false
   },
   "outputs": [],
   "source": [
    "import re\n",
    "import nltk\n",
    "# nltk.download()  # Download text data sets, including stop words\n",
    "from bs4 import BeautifulSoup\n",
    "from nltk.corpus import stopwords "
   ]
  },
  {
   "cell_type": "code",
   "execution_count": 3,
   "metadata": {
    "collapsed": true
   },
   "outputs": [],
   "source": [
    "def review_to_words( raw_review ):\n",
    "    # Function to convert a raw review to a string of words\n",
    "    # The input is a single string (a raw movie review), and \n",
    "    # the output is a single string (a preprocessed movie review)\n",
    "    #\n",
    "    # 1. Remove HTML\n",
    "    review_text = BeautifulSoup(raw_review, \"html.parser\").get_text()\n",
    "    #\n",
    "    # 2. Remove non-letters\n",
    "    letters_only = re.sub(\"[^a-zA-Z]\", \" \", review_text)\n",
    "    #\n",
    "    # 3. Convert to lower case, split into individual words\n",
    "    words = letters_only.lower().split()\n",
    "    #\n",
    "    # 4. In Python, searching a set is much faster than searching\n",
    "    #   a list, so convert the stop words to a set\n",
    "    stops = set(stopwords.words(\"english\"))\n",
    "    # \n",
    "    # 5. Remove stop words\n",
    "    meaningful_words = [w for w in words if not w in stops]\n",
    "    #\n",
    "    # 6. Join the words back into one string separated by space,\n",
    "    # and return the result.\n",
    "    return( \" \".join( meaningful_words ))"
   ]
  },
  {
   "cell_type": "code",
   "execution_count": 4,
   "metadata": {
    "collapsed": false
   },
   "outputs": [
    {
     "name": "stdout",
     "output_type": "stream",
     "text": [
      "Cleaning and parsing the train set movie reviews...\n",
      "\n",
      "Review 5000 of 25000\n",
      "\n",
      "Review 10000 of 25000\n",
      "\n",
      "Review 15000 of 25000\n",
      "\n",
      "Review 20000 of 25000\n",
      "\n",
      "Review 25000 of 25000\n",
      "\n",
      "Done!\n"
     ]
    }
   ],
   "source": [
    "# Create an empty list and append the clean reviews one by one\n",
    "num_train_reviews = len(train[\"review\"])\n",
    "clean_train_reviews = [] \n",
    "\n",
    "print(\"Cleaning and parsing the train set movie reviews...\\n\")\n",
    "for i in range(0, num_train_reviews):\n",
    "    if((i + 1) % 5000 == 0):\n",
    "        print(\"Review %d of %d\\n\" % (i + 1, num_train_reviews))\n",
    "    clean_train_reviews.append(review_to_words(train[\"review\"][i]))\n",
    "print(\"Done!\")"
   ]
  },
  {
   "cell_type": "code",
   "execution_count": 5,
   "metadata": {
    "collapsed": false
   },
   "outputs": [
    {
     "name": "stdout",
     "output_type": "stream",
     "text": [
      "Cleaning and parsing the test set movie reviews...\n",
      "\n",
      "Review 5000 of 25000\n",
      "\n",
      "Review 10000 of 25000\n",
      "\n",
      "Review 15000 of 25000\n",
      "\n",
      "Review 20000 of 25000\n",
      "\n",
      "Review 25000 of 25000\n",
      "\n",
      "Done!\n"
     ]
    }
   ],
   "source": [
    "# Create an empty list and append the clean reviews one by one\n",
    "num_test_reviews = len(test[\"review\"])\n",
    "clean_test_reviews = [] \n",
    "\n",
    "print(\"Cleaning and parsing the test set movie reviews...\\n\")\n",
    "for i in range(0, num_test_reviews):\n",
    "    if((i + 1) % 5000 == 0):\n",
    "        print(\"Review %d of %d\\n\" % (i + 1, num_test_reviews))\n",
    "    clean_test_reviews.append(review_to_words(test[\"review\"][i]))\n",
    "print(\"Done!\")"
   ]
  },
  {
   "cell_type": "markdown",
   "metadata": {},
   "source": [
    "## 1. Processing text to create design matrices"
   ]
  },
  {
   "cell_type": "code",
   "execution_count": 6,
   "metadata": {
    "collapsed": false
   },
   "outputs": [
    {
     "name": "stdout",
     "output_type": "stream",
     "text": [
      "Creating the bag of words...\n",
      "\n",
      "Done!\n"
     ]
    }
   ],
   "source": [
    "print(\"Creating the bag of words...\\n\")\n",
    "from sklearn.feature_extraction.text import CountVectorizer\n",
    " \n",
    "count_vectorizer = CountVectorizer(analyzer = \"word\", tokenizer = None, preprocessor = None, \n",
    "                                   stop_words = None, max_features = 5000) \n",
    "\n",
    "X_counts = count_vectorizer.fit_transform(clean_train_reviews)\n",
    "print(\"Done!\")"
   ]
  },
  {
   "cell_type": "code",
   "execution_count": 7,
   "metadata": {
    "collapsed": false
   },
   "outputs": [
    {
     "name": "stdout",
     "output_type": "stream",
     "text": [
      "Creating the binary bag of words...\n",
      "\n",
      "Done!\n"
     ]
    }
   ],
   "source": [
    "print(\"Creating the binary bag of words...\\n\")\n",
    "\n",
    "from copy import deepcopy\n",
    "X_binary = deepcopy(X_counts)\n",
    "X_binary[X_binary > 0] = 1\n",
    "\n",
    "print(\"Done!\")"
   ]
  },
  {
   "cell_type": "code",
   "execution_count": 8,
   "metadata": {
    "collapsed": false,
    "scrolled": true
   },
   "outputs": [
    {
     "name": "stdout",
     "output_type": "stream",
     "text": [
      "Creating the tf–idf term weighting...\n",
      "\n",
      "Done!\n"
     ]
    }
   ],
   "source": [
    "print(\"Creating the tf–idf term weighting...\\n\")\n",
    "from sklearn.feature_extraction.text import TfidfTransformer\n",
    "\n",
    "transformer = TfidfTransformer(smooth_idf = False)\n",
    "X_tfidf = transformer.fit_transform(X_counts)\n",
    "\n",
    "print(\"Done!\")"
   ]
  },
  {
   "cell_type": "code",
   "execution_count": 9,
   "metadata": {
    "collapsed": false
   },
   "outputs": [
    {
     "name": "stdout",
     "output_type": "stream",
     "text": [
      "Creating the imbalance binary bag of words...\n",
      "\n",
      "Done!\n"
     ]
    }
   ],
   "source": [
    "print(\"Creating the imbalance binary bag of words...\\n\")\n",
    "\n",
    "df = train[train[\"sentiment\"] == 1].sample(frac = 0.75, random_state = 0)\n",
    "imbalance_train = train.drop(df.index)\n",
    "X_binary_imbalance = X_binary[imbalance_train.index]\n",
    "\n",
    "print(\"Done!\")"
   ]
  },
  {
   "cell_type": "markdown",
   "metadata": {},
   "source": [
    "## 2. Feature space similarity experiment"
   ]
  },
  {
   "cell_type": "code",
   "execution_count": 10,
   "metadata": {
    "collapsed": false
   },
   "outputs": [],
   "source": [
    "# Obtain the label on the original train set and imbalance train set\n",
    "train_sentiment = train[\"sentiment\"].values\n",
    "imbalance_train_sentiment = imbalance_train[\"sentiment\"].values"
   ]
  },
  {
   "cell_type": "code",
   "execution_count": 11,
   "metadata": {
    "collapsed": true
   },
   "outputs": [],
   "source": [
    "from sklearn.metrics.pairwise import pairwise_distances\n",
    "def dist(X, i, j, distance_function = \"euclidean\"):\n",
    "    return pairwise_distances(X[i], X[j], metric = distance_function)[0, 0]"
   ]
  },
  {
   "cell_type": "code",
   "execution_count": 12,
   "metadata": {
    "collapsed": false
   },
   "outputs": [],
   "source": [
    "def topk(X, k):\n",
    "    # compute the distance matrix\n",
    "    distance = pairwise_distances(X, n_jobs=1)\n",
    "    # remove duplicate values and diagonal values, then flat the matrix\n",
    "    indices = np.tril_indices(distance.shape[0])\n",
    "    distance[indices] = np.inf\n",
    "    flat = distance.flatten()\n",
    "    \n",
    "    # find the top k closedt rows\n",
    "    index = np.argpartition(flat, k)[:k]\n",
    "    index = index[np.argsort(flat[index])]\n",
    "    index = np.unravel_index(index, distance.shape)\n",
    "    \n",
    "    top = []\n",
    "    for i in range(k):\n",
    "        row = index[0][i]\n",
    "        col = index[1][i]\n",
    "        top.append([row, col, distance[row][col]])\n",
    "    return top"
   ]
  },
  {
   "cell_type": "code",
   "execution_count": 13,
   "metadata": {
    "collapsed": false
   },
   "outputs": [
    {
     "name": "stdout",
     "output_type": "stream",
     "text": [
      "The indices are (3924, 5796) and the distance is 0.0\n",
      "for 3924 th review: \"I watched this movi , and its sentiment is 0\n",
      "for 5796 th review: \"I watched this movi , and its sentiment is 0\n",
      "The indices are (4937, 7794) and the distance is 0.0\n",
      "for 4937 th review: \"A longtime fan of B , and its sentiment is 1\n",
      "for 7794 th review: \"A longtime fan of B , and its sentiment is 1\n",
      "The indices are (5766, 11510) and the distance is 0.0\n",
      "for 5766 th review: \"I saw this in the s , and its sentiment is 0\n",
      "for 11510 th review: \"I saw this in the s , and its sentiment is 0\n",
      "The indices are (4543, 12168) and the distance is 0.0\n",
      "for 4543 th review: \"Smallville episode  , and its sentiment is 1\n",
      "for 12168 th review: \"Smallville episode  , and its sentiment is 1\n",
      "The indices are (7765, 9776) and the distance is 0.0\n",
      "for 7765 th review: \"How has this piece  , and its sentiment is 0\n",
      "for 9776 th review: \"How has this piece  , and its sentiment is 0\n"
     ]
    }
   ],
   "source": [
    "# compute top k for X_counts matrix\n",
    "top = topk(X_counts, 5)\n",
    "\n",
    "for elm in top:\n",
    "    print(\"The indices are\", (elm[0], elm[1]), \"and the distance is\", elm[2])\n",
    "    print(\"for\", elm[0], \"th review:\", train[\"review\"][elm[0]][:20], \", and its sentiment is\", train[\"sentiment\"][elm[0]])\n",
    "    print(\"for\", elm[1], \"th review:\", train[\"review\"][elm[1]][:20], \", and its sentiment is\", train[\"sentiment\"][elm[1]])"
   ]
  },
  {
   "cell_type": "code",
   "execution_count": 14,
   "metadata": {
    "collapsed": false
   },
   "outputs": [
    {
     "name": "stdout",
     "output_type": "stream",
     "text": [
      "The indices are (1290, 1355) and the distance is 0.0\n",
      "for 1290 th review: \"I am not so much li , and its sentiment is 0\n",
      "for 1355 th review: \"I am not so much li , and its sentiment is 0\n",
      "The indices are (7667, 12234) and the distance is 0.0\n",
      "for 7667 th review: \"You know all those  , and its sentiment is 0\n",
      "for 12234 th review: \"You know all those  , and its sentiment is 0\n",
      "The indices are (8117, 8136) and the distance is 0.0\n",
      "for 8117 th review: \"This was one of the , and its sentiment is 0\n",
      "for 8136 th review: \"This was one of the , and its sentiment is 0\n",
      "The indices are (5656, 10451) and the distance is 0.0\n",
      "for 5656 th review: \"Goodnight, Mister T , and its sentiment is 0\n",
      "for 10451 th review: \"Goodnight, Mister T , and its sentiment is 0\n",
      "The indices are (7765, 9776) and the distance is 0.0\n",
      "for 7765 th review: \"How has this piece  , and its sentiment is 0\n",
      "for 9776 th review: \"How has this piece  , and its sentiment is 0\n"
     ]
    }
   ],
   "source": [
    "# compute top k for X_binary matrix\n",
    "top = topk(X_binary, 5)\n",
    "\n",
    "for elm in top:\n",
    "    print(\"The indices are\", (elm[0], elm[1]), \"and the distance is\", elm[2])\n",
    "    print(\"for\", elm[0], \"th review:\", train[\"review\"][elm[0]][:20], \", and its sentiment is\", train[\"sentiment\"][elm[0]])\n",
    "    print(\"for\", elm[1], \"th review:\", train[\"review\"][elm[1]][:20], \", and its sentiment is\", train[\"sentiment\"][elm[1]])"
   ]
  },
  {
   "cell_type": "code",
   "execution_count": 15,
   "metadata": {
    "collapsed": false
   },
   "outputs": [
    {
     "name": "stdout",
     "output_type": "stream",
     "text": [
      "The indices are (2804, 4762) and the distance is 0.0\n",
      "for 2804 th review: \"I think this is alm , and its sentiment is 0\n",
      "for 4762 th review: \"I think this is alm , and its sentiment is 0\n",
      "The indices are (4937, 7794) and the distance is 0.0\n",
      "for 4937 th review: \"A longtime fan of B , and its sentiment is 1\n",
      "for 7794 th review: \"A longtime fan of B , and its sentiment is 1\n",
      "The indices are (1461, 6013) and the distance is 0.0\n",
      "for 1461 th review: \"I really enjoyed th , and its sentiment is 1\n",
      "for 6013 th review: \"I really enjoyed th , and its sentiment is 1\n",
      "The indices are (5065, 6691) and the distance is 0.0\n",
      "for 5065 th review: \"German filmmaker Ul , and its sentiment is 0\n",
      "for 6691 th review: \"German filmmaker Ul , and its sentiment is 0\n",
      "The indices are (1290, 1355) and the distance is 0.0\n",
      "for 1290 th review: \"I am not so much li , and its sentiment is 0\n",
      "for 1355 th review: \"I am not so much li , and its sentiment is 0\n"
     ]
    }
   ],
   "source": [
    "# compute top k for X_tfidf matrix\n",
    "top = topk(X_tfidf, 5)\n",
    "\n",
    "for elm in top:\n",
    "    print(\"The indices are\", (elm[0], elm[1]), \"and the distance is\", elm[2])\n",
    "    print(\"for\", elm[0], \"th review:\", train[\"review\"][elm[0]][:20], \", and its sentiment is\", train[\"sentiment\"][elm[0]])\n",
    "    print(\"for\", elm[1], \"th review:\", train[\"review\"][elm[1]][:20], \", and its sentiment is\", train[\"sentiment\"][elm[1]])"
   ]
  },
  {
   "cell_type": "code",
   "execution_count": 16,
   "metadata": {
    "collapsed": false
   },
   "outputs": [
    {
     "name": "stdout",
     "output_type": "stream",
     "text": [
      "The indices are (15290, 18042) and the distance is 0.0\n",
      "for 15290 th review: \"This show comes up  , and its sentiment is 0\n",
      "for 18042 th review: \"This show comes up  , and its sentiment is 0\n",
      "The indices are (15290, 17736) and the distance is 0.0\n",
      "for 15290 th review: \"This show comes up  , and its sentiment is 0\n",
      "for 17736 th review: \"This show comes up  , and its sentiment is 0\n",
      "The indices are (7765, 9776) and the distance is 0.0\n",
      "for 7765 th review: \"How has this piece  , and its sentiment is 0\n",
      "for 9776 th review: \"How has this piece  , and its sentiment is 0\n",
      "The indices are (326, 7336) and the distance is 0.0\n",
      "for 326 th review: \"This guy has no ide , and its sentiment is 0\n",
      "for 7336 th review: \"This guy has no ide , and its sentiment is 0\n",
      "The indices are (2905, 16147) and the distance is 0.0\n",
      "for 2905 th review: \"The original \\\"les  , and its sentiment is 0\n",
      "for 16147 th review: \"The original \\\"les  , and its sentiment is 0\n"
     ]
    }
   ],
   "source": [
    "# compute top k for X_binary_imbalance matrix\n",
    "top = topk(X_binary_imbalance, 5)\n",
    "\n",
    "# use imbalance_train to get reviews and sentiments\n",
    "for elm in top:\n",
    "    i, j = imbalance_train.index[elm[0]], imbalance_train.index[elm[1]]\n",
    "    print(\"The indices are\", (i, j), \"and the distance is\", elm[2])\n",
    "    print(\"for\", i, \"th review:\", imbalance_train[\"review\"].values[elm[0]][:20], \n",
    "          \", and its sentiment is\", imbalance_train[\"sentiment\"].values[elm[0]])\n",
    "    print(\"for\", j, \"th review:\", imbalance_train[\"review\"].values[elm[1]][:20], \n",
    "          \", and its sentiment is\", imbalance_train[\"sentiment\"].values[elm[1]])"
   ]
  },
  {
   "cell_type": "markdown",
   "metadata": {},
   "source": [
    "As we can see above, the top $k$ closest pairs of review are different among those four design matrices."
   ]
  },
  {
   "cell_type": "markdown",
   "metadata": {},
   "source": [
    "## 3. Classification experiment"
   ]
  },
  {
   "cell_type": "code",
   "execution_count": 25,
   "metadata": {
    "collapsed": true
   },
   "outputs": [],
   "source": [
    "import matplotlib.pyplot as plt\n",
    "import random as rd\n",
    "\n",
    "from sklearn import svm\n",
    "from sklearn.metrics import roc_curve, auc, roc_auc_score\n",
    "from sklearn.model_selection import train_test_split, KFold"
   ]
  },
  {
   "cell_type": "code",
   "execution_count": 26,
   "metadata": {
    "collapsed": true
   },
   "outputs": [],
   "source": [
    "# calculateAUC(X, y, k = 5) return two list which record \n",
    "# all randomly selected c and corresponding auc scores\n",
    "# input: \n",
    "# X - features\n",
    "# y - label or sentiment\n",
    "# k - number of cross validation\n",
    "def calculateAUC(X, y, k = 5):\n",
    "    rd.seed(0)\n",
    "    cv = KFold(n_splits = k)\n",
    "    c_list = []\n",
    "    auc_list = []\n",
    "    \n",
    "    for i in range(30):\n",
    "        c = rd.uniform(-4, 4)\n",
    "        c = 10**c\n",
    "        classifier = svm.LinearSVC(C = c)\n",
    "        \n",
    "        mean_auc = 0\n",
    "        \n",
    "        for train, test in cv.split(X, y):\n",
    "            y_score = classifier.fit(X[train], y[train]).decision_function(X[test])\n",
    "            # Compute ROC curve and area the curve\n",
    "            roc_auc = roc_auc_score(y[test], y_score)\n",
    "            mean_auc += roc_auc\n",
    "            \n",
    "        mean_auc /= cv.get_n_splits(X, y)\n",
    "        \n",
    "        c_list.append(c)\n",
    "        auc_list.append(mean_auc)\n",
    "        \n",
    "    return c_list, auc_list"
   ]
  },
  {
   "cell_type": "code",
   "execution_count": 27,
   "metadata": {
    "collapsed": true
   },
   "outputs": [],
   "source": [
    "# findBestC(X, y, k) return the best performance c, and the improvement in roc_auc\n",
    "# input:\n",
    "# X - features\n",
    "# y - label or sentiment\n",
    "# k - number of cross validation\n",
    "def findBestC(X, y, k = 5):\n",
    "    c_list, auc_list = calculateAUC(X, y, k = 5)\n",
    "    best = np.argmax(auc_list)\n",
    "    worst = np.argmin(auc_list)\n",
    "    return c_list[best], auc_list[best] - auc_list[worst]"
   ]
  },
  {
   "cell_type": "code",
   "execution_count": 28,
   "metadata": {
    "collapsed": true
   },
   "outputs": [],
   "source": [
    "# plotROC(fpr, tpr, roc_auc, name) will plot the roc curve\n",
    "# input:\n",
    "# fpr     - false positive rate\n",
    "# tpr     - true positive rate\n",
    "# roc_auc - auc scores\n",
    "# name    - design matrix \n",
    "def plotROC(fpr, tpr, roc_auc, name):\n",
    "    plt.figure()\n",
    "    lw = 2\n",
    "    plt.plot(fpr, tpr, color = 'darkorange', lw = lw, label = 'ROC curve (area = %0.5f)' % roc_auc)\n",
    "    plt.plot([0, 1], [0, 1], color='navy', lw=lw, linestyle='--')\n",
    "    plt.xlim([0.0, 1.0])\n",
    "    plt.ylim([0.0, 1.05])\n",
    "    plt.xlabel('False Positive Rate')\n",
    "    plt.ylabel('True Positive Rate')\n",
    "    plt.title('Receiver operating characteristic for ' + name)\n",
    "    plt.legend(loc = \"lower right\")\n",
    "    plt.show()"
   ]
  },
  {
   "cell_type": "markdown",
   "metadata": {},
   "source": [
    "### 3.1. Tune an SVM classifier using X_counts"
   ]
  },
  {
   "cell_type": "code",
   "execution_count": 29,
   "metadata": {
    "collapsed": false
   },
   "outputs": [
    {
     "data": {
      "image/png": "[encoded data removed]",
      "text/plain": [
       "<matplotlib.figure.Figure at 0x227802aed30>"
      ]
     },
     "metadata": {},
     "output_type": "display_data"
    },
    {
     "name": "stdout",
     "output_type": "stream",
     "text": [
      "The improvement in ROC-AUC of X_counts design matrix is 0.045291386672\n"
     ]
    }
   ],
   "source": [
    "# Split the training set and test set\n",
    "X_train, X_test, y_train, y_test = train_test_split(X_counts, train_sentiment, test_size = 0.2, random_state = 0)\n",
    "\n",
    "c_best, improvement = findBestC(X_train, y_train, 5)\n",
    "classifier = svm.LinearSVC(C = c_best).fit(X_train, y_train)\n",
    "fpr, tpr, _ = roc_curve(y_test, classifier.decision_function(X_test))\n",
    "roc_auc = auc(fpr, tpr)\n",
    "plotROC(fpr, tpr, roc_auc, \"X_counts\")\n",
    "print(\"The improvement in ROC-AUC of X_counts design matrix is\", improvement)"
   ]
  },
  {
   "cell_type": "code",
   "execution_count": 30,
   "metadata": {
    "collapsed": true
   },
   "outputs": [],
   "source": [
    "# Retrain svm using all X_counts data\n",
    "clf1 = svm.LinearSVC(C = c_best).fit(X_counts, train_sentiment)"
   ]
  },
  {
   "cell_type": "code",
   "execution_count": 31,
   "metadata": {
    "collapsed": false
   },
   "outputs": [],
   "source": [
    "# Create the bag of words from test data\n",
    "X_counts_test = count_vectorizer.transform(clean_test_reviews)\n",
    "\n",
    "# Generate labels on Kaggle's test data\n",
    "result1 = clf1.predict(X_counts_test)\n",
    "\n",
    "# Copy the results to a pandas dataframe with an \"id\" column and a \"sentiment\" column\n",
    "output = pd.DataFrame( data={\"id\":test[\"id\"], \"sentiment\":result1} )\n",
    "\n",
    "# Use pandas to write the comma-separated output file\n",
    "output.to_csv( \"Bag_of_Words_model1.csv\", index = False, quoting = 3 )"
   ]
  },
  {
   "cell_type": "markdown",
   "metadata": {},
   "source": [
    "The Kaggle score using X_counts is 0.86928."
   ]
  },
  {
   "cell_type": "markdown",
   "metadata": {},
   "source": [
    "### 3.2. Tune an SVM classifier using X_binary"
   ]
  },
  {
   "cell_type": "code",
   "execution_count": 32,
   "metadata": {
    "collapsed": false
   },
   "outputs": [
    {
     "data": {
      "image/png": "[encoded data removed]",
      "text/plain": [
       "<matplotlib.figure.Figure at 0x227801fa390>"
      ]
     },
     "metadata": {},
     "output_type": "display_data"
    },
    {
     "name": "stdout",
     "output_type": "stream",
     "text": [
      "The improvement in ROC-AUC of X_binary design matrix is 0.0468880836856\n"
     ]
    }
   ],
   "source": [
    "# Split the training set and test set\n",
    "X_train, X_test, y_train, y_test = train_test_split(X_binary, train_sentiment, test_size = 0.2, random_state = 0)\n",
    "\n",
    "c_best, improvement = findBestC(X_train, y_train, 5)\n",
    "classifier = svm.LinearSVC(C = c_best).fit(X_train, y_train)\n",
    "fpr, tpr, _ = roc_curve(y_test, classifier.decision_function(X_test))\n",
    "roc_auc = auc(fpr, tpr)\n",
    "plotROC(fpr, tpr, roc_auc, \"X_binary\")\n",
    "print(\"The improvement in ROC-AUC of X_binary design matrix is\", improvement)"
   ]
  },
  {
   "cell_type": "code",
   "execution_count": 33,
   "metadata": {
    "collapsed": true
   },
   "outputs": [],
   "source": [
    "# Retrain svm using all X_binary data\n",
    "clf2 = svm.LinearSVC(C = c_best).fit(X_binary, train_sentiment)"
   ]
  },
  {
   "cell_type": "code",
   "execution_count": 34,
   "metadata": {
    "collapsed": true
   },
   "outputs": [],
   "source": [
    "# Transfer X_counts_test to X_binary_test\n",
    "X_binary_test = deepcopy(X_counts_test)\n",
    "X_binary_test[X_binary_test > 0] = 1\n",
    "\n",
    "# Generate labels on Kaggle's test data\n",
    "result2 = clf2.predict(X_binary_test)\n",
    "output = pd.DataFrame( data={\"id\":test[\"id\"], \"sentiment\":result2} )\n",
    "output.to_csv( \"Bag_of_Words_model2.csv\", index = False, quoting = 3 )"
   ]
  },
  {
   "cell_type": "markdown",
   "metadata": {},
   "source": [
    "The Kaggle score using X_binary is 0.87296."
   ]
  },
  {
   "cell_type": "markdown",
   "metadata": {},
   "source": [
    "### 3.3. Tune an SVM classifier using X_tfidf"
   ]
  },
  {
   "cell_type": "code",
   "execution_count": 35,
   "metadata": {
    "collapsed": false
   },
   "outputs": [
    {
     "data": {
      "image/png": "[encoded data removed]",
      "text/plain": [
       "<matplotlib.figure.Figure at 0x227b31b22e8>"
      ]
     },
     "metadata": {},
     "output_type": "display_data"
    },
    {
     "name": "stdout",
     "output_type": "stream",
     "text": [
      "The improvement in ROC-AUC of X_tfidf design matrix is 0.0478953865898\n"
     ]
    }
   ],
   "source": [
    "# Split the training set and test set\n",
    "X_train, X_test, y_train, y_test = train_test_split(X_tfidf, train_sentiment, test_size = 0.2, random_state = 0)\n",
    "\n",
    "c_best, improvement = findBestC(X_train, y_train, 5)\n",
    "classifier = svm.LinearSVC(C = c_best).fit(X_train, y_train)\n",
    "fpr, tpr, _ = roc_curve(y_test, classifier.decision_function(X_test))\n",
    "roc_auc = auc(fpr, tpr)\n",
    "plotROC(fpr, tpr, roc_auc, \"X_tfidf\")\n",
    "print(\"The improvement in ROC-AUC of X_tfidf design matrix is\", improvement)"
   ]
  },
  {
   "cell_type": "code",
   "execution_count": 36,
   "metadata": {
    "collapsed": true
   },
   "outputs": [],
   "source": [
    "# Retrain svm using all X_tfidf data\n",
    "clf3 = svm.LinearSVC(C = c_best).fit(X_tfidf, train_sentiment)"
   ]
  },
  {
   "cell_type": "code",
   "execution_count": 37,
   "metadata": {
    "collapsed": true
   },
   "outputs": [],
   "source": [
    "# Transfer X_counts_test to X_tfidf_test\n",
    "X_tfidf_test = transformer.transform(X_counts_test)\n",
    "\n",
    "# Generate labels on Kaggle's test data\n",
    "result3 = clf3.predict(X_tfidf_test)\n",
    "output = pd.DataFrame( data={\"id\":test[\"id\"], \"sentiment\":result3} )\n",
    "output.to_csv( \"Bag_of_Words_model3.csv\", index = False, quoting = 3 )"
   ]
  },
  {
   "cell_type": "markdown",
   "metadata": {},
   "source": [
    "The Kaggle score using X_tfidf is 0.87988."
   ]
  },
  {
   "cell_type": "markdown",
   "metadata": {},
   "source": [
    "### 3.4. Tune an SVM classifier using X_binary_imbalance"
   ]
  },
  {
   "cell_type": "code",
   "execution_count": 38,
   "metadata": {
    "collapsed": false
   },
   "outputs": [
    {
     "data": {
      "image/png": "[encoded data removed]",
      "text/plain": [
       "<matplotlib.figure.Figure at 0x22780270e10>"
      ]
     },
     "metadata": {},
     "output_type": "display_data"
    },
    {
     "name": "stdout",
     "output_type": "stream",
     "text": [
      "The improvement in ROC-AUC of X_binary_imbalance design matrix is 0.0361306660191\n"
     ]
    }
   ],
   "source": [
    "# Split the training set and test set\n",
    "X_train, X_test, y_train, y_test = train_test_split(X_binary_imbalance, imbalance_train_sentiment, \n",
    "                                                    test_size = 0.2, random_state = 0)\n",
    "\n",
    "c_best, improvement = findBestC(X_train, y_train, 5)\n",
    "classifier = svm.LinearSVC(C = c_best).fit(X_train, y_train)\n",
    "fpr, tpr, _ = roc_curve(y_test, classifier.decision_function(X_test))\n",
    "roc_auc = auc(fpr, tpr)\n",
    "plotROC(fpr, tpr, roc_auc, \"X_binary_imbalance\")\n",
    "print(\"The improvement in ROC-AUC of X_binary_imbalance design matrix is\", improvement)"
   ]
  },
  {
   "cell_type": "code",
   "execution_count": 39,
   "metadata": {
    "collapsed": false
   },
   "outputs": [],
   "source": [
    "# Retrain svm using all X_binary_imbalance data\n",
    "clf4 = svm.LinearSVC(C = c_best).fit(X_binary_imbalance, imbalance_train_sentiment)"
   ]
  },
  {
   "cell_type": "markdown",
   "metadata": {},
   "source": [
    "Because we don't have the sentiments of the test set, the X_binary_test will be used to predict the result."
   ]
  },
  {
   "cell_type": "code",
   "execution_count": 40,
   "metadata": {
    "collapsed": true
   },
   "outputs": [],
   "source": [
    "# Generate labels on Kaggle's test data\n",
    "result4 = clf4.predict(X_binary_test)\n",
    "output = pd.DataFrame( data={\"id\":test[\"id\"], \"sentiment\":result4} )\n",
    "output.to_csv( \"Bag_of_Words_model4.csv\", index = False, quoting = 3 )"
   ]
  },
  {
   "cell_type": "markdown",
   "metadata": {},
   "source": [
    "The Kaggle score using X_binary_imbalance is 0.80676."
   ]
  },
  {
   "cell_type": "markdown",
   "metadata": {},
   "source": [
    "As we can see, X_tfidf has the largest roc-auc score and thus performs best."
   ]
  },
  {
   "cell_type": "markdown",
   "metadata": {},
   "source": [
    "## 4. Learning curve experiment"
   ]
  },
  {
   "cell_type": "code",
   "execution_count": 41,
   "metadata": {
    "collapsed": true
   },
   "outputs": [],
   "source": [
    "from sklearn.linear_model import LogisticRegression\n",
    "from sklearn.model_selection import learning_curve"
   ]
  },
  {
   "cell_type": "code",
   "execution_count": 42,
   "metadata": {
    "collapsed": true
   },
   "outputs": [],
   "source": [
    "train_sizes = [100, 500, 1000, 2000, 3000, 4000, 5000, 7500, 10000, 15000, 20000]\n",
    "_, train_scores, test_scores = learning_curve(LogisticRegression(), X_counts, train_sentiment,\n",
    "                                              cv = 5, train_sizes = train_sizes)"
   ]
  },
  {
   "cell_type": "code",
   "execution_count": 51,
   "metadata": {
    "collapsed": false
   },
   "outputs": [
    {
     "data": {
      "image/png": "[encoded data removed]",
      "text/plain": [
       "<matplotlib.figure.Figure at 0x22780e96470>"
      ]
     },
     "metadata": {},
     "output_type": "display_data"
    }
   ],
   "source": [
    "train_errors_mean = 1 - np.mean(train_scores, axis = 1)\n",
    "test_errors_mean = 1 - np.mean(test_scores, axis = 1)\n",
    "\n",
    "# Plot the learning curve\n",
    "plt.figure()\n",
    "plt.grid()\n",
    "plt.title(\"Learning Curves (Logistic Regression)\")\n",
    "plt.xlabel(\"Training sizes\")\n",
    "plt.ylabel(\"Score\")\n",
    "plt.plot(train_sizes, train_errors_mean, 'o-', color = \"r\", label = \"Training error\")\n",
    "plt.plot(train_sizes, test_errors_mean, 'o-', color = \"g\", label = \"Cross-validation error\")\n",
    "plt.legend(loc = \"best\")\n",
    "plt.show()"
   ]
  },
  {
   "cell_type": "markdown",
   "metadata": {},
   "source": [
    "In the learning curve plot, the gap between training and test errors becomes smaller with larger training size. At the beginning, training size is small (says less than 2500) with a extremely small training error. In contrast, testing error (cross-validation error) is quite large. This indicate that our model is overfitted. Then as the number of training examples increases, the testing error decreases dramatically. This demonstrates that large training datasets can overcomes overfitting. "
   ]
  }
 ],
 "metadata": {
  "anaconda-cloud": {},
  "kernelspec": {
   "display_name": "Python [default]",
   "language": "python",
   "name": "python3"
  },
  "language_info": {
   "codemirror_mode": {
    "name": "ipython",
    "version": 3
   },
   "file_extension": ".py",
   "mimetype": "text/x-python",
   "name": "python",
   "nbconvert_exporter": "python",
   "pygments_lexer": "ipython3",
   "version": "3.5.2"
  }
 },
 "nbformat": 4,
 "nbformat_minor": 2
}
